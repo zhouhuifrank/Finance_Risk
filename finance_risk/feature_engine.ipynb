{
 "cells": [
  {
   "cell_type": "code",
   "execution_count": 87,
   "outputs": [],
   "source": [
    "import numpy as np\n",
    "import pandas as pd\n",
    "import matplotlib.pyplot as plt\n",
    "import seaborn as sns\n",
    "import datetime\n",
    "from tqdm import tqdm\n",
    "from sklearn.preprocessing import LabelEncoder,MinMaxScaler\n",
    "from sklearn.feature_selection import SelectKBest\n",
    "from sklearn.feature_selection import chi2\n",
    "from sklearn.feature_selection import VarianceThreshold\n",
    "from sklearn.model_selection import KFold,StratifiedKFold,cross_val_score\n",
    "from sklearn.metrics import accuracy_score, f1_score, roc_auc_score, log_loss\n",
    "import xgboost as xgb\n",
    "import lightgbm as lgb\n",
    "import catboost as cat\n",
    "import warnings\n",
    "warnings.filterwarnings('ignore')"
   ],
   "metadata": {
    "collapsed": false,
    "pycharm": {
     "name": "#%%\n"
    }
   }
  },
  {
   "cell_type": "code",
   "execution_count": 88,
   "outputs": [],
   "source": [
    "train_data = pd.read_csv(\"train.csv\")\n",
    "test_data = pd.read_csv(\"testA.csv\")"
   ],
   "metadata": {
    "collapsed": false,
    "pycharm": {
     "name": "#%%\n"
    }
   }
  },
  {
   "cell_type": "markdown",
   "source": [
    "### 数据预处理"
   ],
   "metadata": {
    "collapsed": false,
    "pycharm": {
     "name": "#%% md\n"
    }
   }
  },
  {
   "cell_type": "code",
   "execution_count": 89,
   "outputs": [],
   "source": [
    "numerical_feature = list(train_data.select_dtypes(exclude=['object']).columns)\n",
    "category_feature = list(filter(lambda x : x not in numerical_feature,list(train_data.columns)))\n",
    "label = \"isDefault\"\n",
    "numerical_feature.remove(label)"
   ],
   "metadata": {
    "collapsed": false,
    "pycharm": {
     "name": "#%%\n"
    }
   }
  },
  {
   "cell_type": "code",
   "execution_count": 90,
   "outputs": [
    {
     "data": {
      "text/plain": "id                        0\nloanAmnt                  0\nterm                      0\ninterestRate              0\ninstallment               0\ngrade                     0\nsubGrade                  0\nemploymentTitle           1\nemploymentLength      46799\nhomeOwnership             0\nannualIncome              0\nverificationStatus        0\nissueDate                 0\nisDefault                 0\npurpose                   0\npostCode                  1\nregionCode                0\ndti                     239\ndelinquency_2years        0\nficoRangeLow              0\nficoRangeHigh             0\nopenAcc                   0\npubRec                    0\npubRecBankruptcies      405\nrevolBal                  0\nrevolUtil               531\ntotalAcc                  0\ninitialListStatus         0\napplicationType           0\nearliesCreditLine         0\ntitle                     1\npolicyCode                0\nn0                    40270\nn1                    40270\nn2                    40270\nn3                    40270\nn4                    33239\nn5                    40270\nn6                    40270\nn7                    40270\nn8                    40271\nn9                    40270\nn10                   33239\nn11                   69752\nn12                   40270\nn13                   40270\nn14                   40270\ndtype: int64"
     },
     "execution_count": 90,
     "metadata": {},
     "output_type": "execute_result"
    }
   ],
   "source": [
    "# 补全缺失值 fillna()函数\n",
    "train_data.isnull().sum()"
   ],
   "metadata": {
    "collapsed": false,
    "pycharm": {
     "name": "#%%\n"
    }
   }
  },
  {
   "cell_type": "code",
   "execution_count": 91,
   "outputs": [],
   "source": [
    "# 用中位数补充数值型变量\n",
    "train_data[numerical_feature] = train_data[numerical_feature].fillna(train_data[numerical_feature].median())\n",
    "test_data[numerical_feature] = test_data[numerical_feature].fillna(test_data[numerical_feature].median())\n",
    "# 用众数补充分类型变量\n",
    "train_data[category_feature] = train_data[category_feature].fillna(train_data[category_feature].mode())\n",
    "test_data[category_feature] = test_data[category_feature].fillna(test_data[category_feature].mode())"
   ],
   "metadata": {
    "collapsed": false,
    "pycharm": {
     "name": "#%%\n"
    }
   }
  },
  {
   "cell_type": "code",
   "execution_count": 92,
   "outputs": [
    {
     "name": "stdout",
     "output_type": "stream",
     "text": [
      "<class 'pandas.core.frame.DataFrame'>\n",
      "RangeIndex: 800000 entries, 0 to 799999\n",
      "Data columns (total 47 columns):\n",
      " #   Column              Non-Null Count   Dtype  \n",
      "---  ------              --------------   -----  \n",
      " 0   id                  800000 non-null  int64  \n",
      " 1   loanAmnt            800000 non-null  float64\n",
      " 2   term                800000 non-null  int64  \n",
      " 3   interestRate        800000 non-null  float64\n",
      " 4   installment         800000 non-null  float64\n",
      " 5   grade               800000 non-null  object \n",
      " 6   subGrade            800000 non-null  object \n",
      " 7   employmentTitle     800000 non-null  float64\n",
      " 8   employmentLength    753201 non-null  object \n",
      " 9   homeOwnership       800000 non-null  int64  \n",
      " 10  annualIncome        800000 non-null  float64\n",
      " 11  verificationStatus  800000 non-null  int64  \n",
      " 12  issueDate           800000 non-null  object \n",
      " 13  isDefault           800000 non-null  int64  \n",
      " 14  purpose             800000 non-null  int64  \n",
      " 15  postCode            800000 non-null  float64\n",
      " 16  regionCode          800000 non-null  int64  \n",
      " 17  dti                 800000 non-null  float64\n",
      " 18  delinquency_2years  800000 non-null  float64\n",
      " 19  ficoRangeLow        800000 non-null  float64\n",
      " 20  ficoRangeHigh       800000 non-null  float64\n",
      " 21  openAcc             800000 non-null  float64\n",
      " 22  pubRec              800000 non-null  float64\n",
      " 23  pubRecBankruptcies  800000 non-null  float64\n",
      " 24  revolBal            800000 non-null  float64\n",
      " 25  revolUtil           800000 non-null  float64\n",
      " 26  totalAcc            800000 non-null  float64\n",
      " 27  initialListStatus   800000 non-null  int64  \n",
      " 28  applicationType     800000 non-null  int64  \n",
      " 29  earliesCreditLine   800000 non-null  object \n",
      " 30  title               800000 non-null  float64\n",
      " 31  policyCode          800000 non-null  float64\n",
      " 32  n0                  800000 non-null  float64\n",
      " 33  n1                  800000 non-null  float64\n",
      " 34  n2                  800000 non-null  float64\n",
      " 35  n3                  800000 non-null  float64\n",
      " 36  n4                  800000 non-null  float64\n",
      " 37  n5                  800000 non-null  float64\n",
      " 38  n6                  800000 non-null  float64\n",
      " 39  n7                  800000 non-null  float64\n",
      " 40  n8                  800000 non-null  float64\n",
      " 41  n9                  800000 non-null  float64\n",
      " 42  n10                 800000 non-null  float64\n",
      " 43  n11                 800000 non-null  float64\n",
      " 44  n12                 800000 non-null  float64\n",
      " 45  n13                 800000 non-null  float64\n",
      " 46  n14                 800000 non-null  float64\n",
      "dtypes: float64(33), int64(9), object(5)\n",
      "memory usage: 286.9+ MB\n"
     ]
    }
   ],
   "source": [
    "train_data.isnull().sum()\n",
    "train_data.info()"
   ],
   "metadata": {
    "collapsed": false,
    "pycharm": {
     "name": "#%%\n"
    }
   }
  },
  {
   "cell_type": "code",
   "execution_count": 93,
   "outputs": [
    {
     "data": {
      "text/plain": "['grade', 'subGrade', 'employmentLength', 'issueDate', 'earliesCreditLine']"
     },
     "execution_count": 93,
     "metadata": {},
     "output_type": "execute_result"
    }
   ],
   "source": [
    "# 对象类型的特征需要特殊处理 其中issueDate为时间类型\n",
    "category_feature"
   ],
   "metadata": {
    "collapsed": false,
    "pycharm": {
     "name": "#%%\n"
    }
   }
  },
  {
   "cell_type": "code",
   "execution_count": 94,
   "outputs": [],
   "source": [
    "for data in [train_data,test_data]:\n",
    "    data['issueDate'] = pd.to_datetime(data['issueDate'],format=\"%Y-%m-%d\")\n",
    "    startDate = datetime.datetime.strptime(\"2020-1-01\",\"%Y-%m-%d\")\n",
    "    data[\"issueDateDT\"] = data['issueDate'].apply(lambda x: x-startDate).dt.days"
   ],
   "metadata": {
    "collapsed": false,
    "pycharm": {
     "name": "#%%\n"
    }
   }
  },
  {
   "cell_type": "code",
   "execution_count": 95,
   "outputs": [
    {
     "data": {
      "text/plain": "1 year        52489\n10+ years    262753\n2 years       72358\n3 years       64152\n4 years       47985\n5 years       50102\n6 years       37254\n7 years       35407\n8 years       36192\n9 years       30272\n< 1 year      64237\nNaN           46799\nName: employmentLength, dtype: int64"
     },
     "execution_count": 95,
     "metadata": {},
     "output_type": "execute_result"
    }
   ],
   "source": [
    "train_data['employmentLength'].value_counts(dropna=False).sort_index()"
   ],
   "metadata": {
    "collapsed": false,
    "pycharm": {
     "name": "#%%\n"
    }
   }
  },
  {
   "cell_type": "code",
   "execution_count": 96,
   "outputs": [],
   "source": [
    "def employmentLength_to_int(s):\n",
    "    if pd.isnull(s):\n",
    "        return s\n",
    "    else:\n",
    "        return np.int8(s.split(\" \")[0])\n",
    "\n",
    "# 将对象类型转换为数值类型\n",
    "for data in [train_data,test_data]:\n",
    "    data['employmentLength'].replace(to_replace=\"10+ years\",value=\"10 years\",inplace=True)\n",
    "    data['employmentLength'].replace(to_replace=\"< 1 year\",value=\"0 years\",inplace=True)\n",
    "    data['employmentLength'] = data['employmentLength'].apply(employmentLength_to_int)"
   ],
   "metadata": {
    "collapsed": false,
    "pycharm": {
     "name": "#%%\n"
    }
   }
  },
  {
   "cell_type": "code",
   "execution_count": 97,
   "outputs": [
    {
     "data": {
      "text/plain": "0.0      64237\n1.0      52489\n2.0      72358\n3.0      64152\n4.0      47985\n5.0      50102\n6.0      37254\n7.0      35407\n8.0      36192\n9.0      30272\n10.0    262753\nName: employmentLength, dtype: int64"
     },
     "execution_count": 97,
     "metadata": {},
     "output_type": "execute_result"
    }
   ],
   "source": [
    "train_data['employmentLength'].value_counts().sort_index()"
   ],
   "metadata": {
    "collapsed": false,
    "pycharm": {
     "name": "#%%\n"
    }
   }
  },
  {
   "cell_type": "code",
   "execution_count": 98,
   "outputs": [
    {
     "data": {
      "text/plain": "Apr-1955       2\nApr-1958       1\nApr-1960       2\nApr-1961       4\nApr-1962       4\n            ... \nSep-2011    1008\nSep-2012     575\nSep-2013     278\nSep-2014     104\nSep-2015       3\nName: earliesCreditLine, Length: 720, dtype: int64"
     },
     "execution_count": 98,
     "metadata": {},
     "output_type": "execute_result"
    }
   ],
   "source": [
    "train_data['earliesCreditLine'].value_counts().sort_index()"
   ],
   "metadata": {
    "collapsed": false,
    "pycharm": {
     "name": "#%%\n"
    }
   }
  },
  {
   "cell_type": "code",
   "execution_count": 99,
   "outputs": [],
   "source": [
    "for data in [train_data,test_data]:\n",
    "    data['earliesCreditLine'] = data['earliesCreditLine'].apply(lambda s: int(s[-4:]))"
   ],
   "metadata": {
    "collapsed": false,
    "pycharm": {
     "name": "#%%\n"
    }
   }
  },
  {
   "cell_type": "code",
   "execution_count": 100,
   "outputs": [
    {
     "data": {
      "text/plain": "28187     2004\n104621    2001\n48123     2005\n42673     1997\n89134     2001\nName: earliesCreditLine, dtype: int64"
     },
     "execution_count": 100,
     "metadata": {},
     "output_type": "execute_result"
    }
   ],
   "source": [
    "data['earliesCreditLine'].sample(5)"
   ],
   "metadata": {
    "collapsed": false,
    "pycharm": {
     "name": "#%%\n"
    }
   }
  },
  {
   "cell_type": "code",
   "execution_count": 101,
   "outputs": [
    {
     "name": "stdout",
     "output_type": "stream",
     "text": [
      "grade特征，类别数目:7\n",
      "subGrade特征，类别数目:35\n",
      "employmentTitle特征，类别数目:79282\n",
      "homeOwnership特征，类别数目:6\n",
      "verificationStatus特征，类别数目:3\n",
      "purpose特征，类别数目:14\n",
      "postCode特征，类别数目:889\n",
      "regionCode特征，类别数目:51\n",
      "applicationType特征，类别数目:2\n",
      "initialListStatus特征，类别数目:2\n",
      "title特征，类别数目:12058\n",
      "policyCode特征，类别数目:1\n"
     ]
    }
   ],
   "source": [
    "# 类别型特征处理\n",
    "cate_features = [\"grade\",\"subGrade\",\"employmentTitle\",\"homeOwnership\",\"verificationStatus\",\n",
    "                 \"purpose\",\"postCode\",\"regionCode\",\"applicationType\",\"initialListStatus\",\"title\",\"policyCode\"]\n",
    "\n",
    "for f in cate_features:\n",
    "    print(f\"{f}特征，类别数目:{data[f].nunique()}\")"
   ],
   "metadata": {
    "collapsed": false,
    "pycharm": {
     "name": "#%%\n"
    }
   }
  },
  {
   "cell_type": "code",
   "execution_count": 102,
   "outputs": [
    {
     "data": {
      "text/plain": "A    139661\nB    233690\nC    227118\nD    119453\nE     55661\nF     19053\nG      5364\nName: grade, dtype: int64"
     },
     "execution_count": 102,
     "metadata": {},
     "output_type": "execute_result"
    }
   ],
   "source": [
    "train_data[\"grade\"].value_counts().sort_index()"
   ],
   "metadata": {
    "collapsed": false,
    "pycharm": {
     "name": "#%%\n"
    }
   }
  },
  {
   "cell_type": "code",
   "execution_count": 103,
   "outputs": [],
   "source": [
    "# grade属于有大小关系的类别，可以使用labelCode或者直接自定义映射函数\n",
    "for data in [train_data,test_data]:\n",
    "    data[\"grade\"] = data[\"grade\"].map({\"A\":1,\"B\":2,\"C\":3,\"D\":4,\"E\":5,\"F\":6,\"G\":7})"
   ],
   "metadata": {
    "collapsed": false,
    "pycharm": {
     "name": "#%%\n"
    }
   }
  },
  {
   "cell_type": "code",
   "execution_count": 104,
   "outputs": [
    {
     "data": {
      "text/plain": "1    139661\n2    233690\n3    227118\n4    119453\n5     55661\n6     19053\n7      5364\nName: grade, dtype: int64"
     },
     "execution_count": 104,
     "metadata": {},
     "output_type": "execute_result"
    }
   ],
   "source": [
    "train_data[\"grade\"].value_counts().sort_index()"
   ],
   "metadata": {
    "collapsed": false,
    "pycharm": {
     "name": "#%%\n"
    }
   }
  },
  {
   "cell_type": "code",
   "execution_count": 105,
   "outputs": [],
   "source": [
    "# 类型数大于2，并且不是高维稀疏的特征，可以直接编码\n",
    "for data in [train_data,test_data]:\n",
    "    data = pd.get_dummies(data,columns=[\"subGrade\",\"homeOwnership\",\"verificationStatus\",\"purpose\",\"regionCode\"],drop_first=True)"
   ],
   "metadata": {
    "collapsed": false,
    "pycharm": {
     "name": "#%%\n"
    }
   }
  },
  {
   "cell_type": "markdown",
   "source": [
    "#### 异常值处理"
   ],
   "metadata": {
    "collapsed": false,
    "pycharm": {
     "name": "#%% md\n"
    }
   }
  },
  {
   "cell_type": "code",
   "execution_count": 106,
   "outputs": [],
   "source": [
    "def filter_outliers_3segama(data,feature):\n",
    "    data_std = np.std(data[feature])\n",
    "    data_mean = np.mean(data[feature])\n",
    "    cut_off = data_std * 3\n",
    "    lower_bound = data_mean - cut_off\n",
    "    upper_bound = data_mean + cut_off\n",
    "    data[feature+\"_outliers\"] = data[feature].apply(lambda x:str(\"异常值\") if x > upper_bound or x < lower_bound else \"正常值\")\n",
    "    return data"
   ],
   "metadata": {
    "collapsed": false,
    "pycharm": {
     "name": "#%%\n"
    }
   }
  },
  {
   "cell_type": "code",
   "execution_count": 107,
   "outputs": [
    {
     "name": "stdout",
     "output_type": "stream",
     "text": [
      "正常值    800000\n",
      "Name: id_outliers, dtype: int64\n",
      "id_outliers\n",
      "正常值    159610\n",
      "Name: isDefault, dtype: int64\n",
      "**********\n",
      "正常值    800000\n",
      "Name: loanAmnt_outliers, dtype: int64\n",
      "loanAmnt_outliers\n",
      "正常值    159610\n",
      "Name: isDefault, dtype: int64\n",
      "**********\n",
      "正常值    800000\n",
      "Name: term_outliers, dtype: int64\n",
      "term_outliers\n",
      "正常值    159610\n",
      "Name: isDefault, dtype: int64\n",
      "**********\n",
      "正常值    794259\n",
      "异常值      5741\n",
      "Name: interestRate_outliers, dtype: int64\n",
      "interestRate_outliers\n",
      "异常值      2916\n",
      "正常值    156694\n",
      "Name: isDefault, dtype: int64\n",
      "**********\n",
      "正常值    792046\n",
      "异常值      7954\n",
      "Name: installment_outliers, dtype: int64\n",
      "installment_outliers\n",
      "异常值      2152\n",
      "正常值    157458\n",
      "Name: isDefault, dtype: int64\n",
      "**********\n",
      "正常值    800000\n",
      "Name: employmentTitle_outliers, dtype: int64\n",
      "employmentTitle_outliers\n",
      "正常值    159610\n",
      "Name: isDefault, dtype: int64\n",
      "**********\n",
      "正常值    799701\n",
      "异常值       299\n",
      "Name: homeOwnership_outliers, dtype: int64\n",
      "homeOwnership_outliers\n",
      "异常值        62\n",
      "正常值    159548\n",
      "Name: isDefault, dtype: int64\n",
      "**********\n",
      "正常值    793973\n",
      "异常值      6027\n",
      "Name: annualIncome_outliers, dtype: int64\n",
      "annualIncome_outliers\n",
      "异常值       756\n",
      "正常值    158854\n",
      "Name: isDefault, dtype: int64\n",
      "**********\n",
      "正常值    800000\n",
      "Name: verificationStatus_outliers, dtype: int64\n",
      "verificationStatus_outliers\n",
      "正常值    159610\n",
      "Name: isDefault, dtype: int64\n",
      "**********\n",
      "正常值    783003\n",
      "异常值     16997\n",
      "Name: purpose_outliers, dtype: int64\n",
      "purpose_outliers\n",
      "异常值      3635\n",
      "正常值    155975\n",
      "Name: isDefault, dtype: int64\n",
      "**********\n",
      "正常值    798931\n",
      "异常值      1069\n",
      "Name: postCode_outliers, dtype: int64\n",
      "postCode_outliers\n",
      "异常值       221\n",
      "正常值    159389\n",
      "Name: isDefault, dtype: int64\n",
      "**********\n",
      "正常值    799994\n",
      "异常值         6\n",
      "Name: regionCode_outliers, dtype: int64\n",
      "regionCode_outliers\n",
      "异常值         1\n",
      "正常值    159609\n",
      "Name: isDefault, dtype: int64\n",
      "**********\n",
      "正常值    798440\n",
      "异常值      1560\n",
      "Name: dti_outliers, dtype: int64\n",
      "dti_outliers\n",
      "异常值       466\n",
      "正常值    159144\n",
      "Name: isDefault, dtype: int64\n",
      "**********\n",
      "正常值    778245\n",
      "异常值     21755\n",
      "Name: delinquency_2years_outliers, dtype: int64\n",
      "delinquency_2years_outliers\n",
      "异常值      5089\n",
      "正常值    154521\n",
      "Name: isDefault, dtype: int64\n",
      "**********\n",
      "正常值    788261\n",
      "异常值     11739\n",
      "Name: ficoRangeLow_outliers, dtype: int64\n",
      "ficoRangeLow_outliers\n",
      "异常值       778\n",
      "正常值    158832\n",
      "Name: isDefault, dtype: int64\n",
      "**********\n",
      "正常值    788261\n",
      "异常值     11739\n",
      "Name: ficoRangeHigh_outliers, dtype: int64\n",
      "ficoRangeHigh_outliers\n",
      "异常值       778\n",
      "正常值    158832\n",
      "Name: isDefault, dtype: int64\n",
      "**********\n",
      "正常值    790889\n",
      "异常值      9111\n",
      "Name: openAcc_outliers, dtype: int64\n",
      "openAcc_outliers\n",
      "异常值      2195\n",
      "正常值    157415\n",
      "Name: isDefault, dtype: int64\n",
      "**********\n",
      "正常值    792471\n",
      "异常值      7529\n",
      "Name: pubRec_outliers, dtype: int64\n",
      "pubRec_outliers\n",
      "异常值      1701\n",
      "正常值    157909\n",
      "Name: isDefault, dtype: int64\n",
      "**********\n",
      "正常值    794120\n",
      "异常值      5880\n",
      "Name: pubRecBankruptcies_outliers, dtype: int64\n",
      "pubRecBankruptcies_outliers\n",
      "异常值      1423\n",
      "正常值    158187\n",
      "Name: isDefault, dtype: int64\n",
      "**********\n",
      "正常值    790001\n",
      "异常值      9999\n",
      "Name: revolBal_outliers, dtype: int64\n",
      "revolBal_outliers\n",
      "异常值      1359\n",
      "正常值    158251\n",
      "Name: isDefault, dtype: int64\n",
      "**********\n",
      "正常值    799948\n",
      "异常值        52\n",
      "Name: revolUtil_outliers, dtype: int64\n",
      "revolUtil_outliers\n",
      "异常值        23\n",
      "正常值    159587\n",
      "Name: isDefault, dtype: int64\n",
      "**********\n",
      "正常值    791663\n",
      "异常值      8337\n",
      "Name: totalAcc_outliers, dtype: int64\n",
      "totalAcc_outliers\n",
      "异常值      1668\n",
      "正常值    157942\n",
      "Name: isDefault, dtype: int64\n",
      "**********\n",
      "正常值    800000\n",
      "Name: initialListStatus_outliers, dtype: int64\n",
      "initialListStatus_outliers\n",
      "正常值    159610\n",
      "Name: isDefault, dtype: int64\n",
      "**********\n",
      "正常值    784586\n",
      "异常值     15414\n",
      "Name: applicationType_outliers, dtype: int64\n",
      "applicationType_outliers\n",
      "异常值      3875\n",
      "正常值    155735\n",
      "Name: isDefault, dtype: int64\n",
      "**********\n",
      "正常值    775134\n",
      "异常值     24866\n",
      "Name: title_outliers, dtype: int64\n",
      "title_outliers\n",
      "异常值      3900\n",
      "正常值    155710\n",
      "Name: isDefault, dtype: int64\n",
      "**********\n",
      "正常值    800000\n",
      "Name: policyCode_outliers, dtype: int64\n",
      "policyCode_outliers\n",
      "正常值    159610\n",
      "Name: isDefault, dtype: int64\n",
      "**********\n",
      "正常值    782773\n",
      "异常值     17227\n",
      "Name: n0_outliers, dtype: int64\n",
      "n0_outliers\n",
      "异常值      3485\n",
      "正常值    156125\n",
      "Name: isDefault, dtype: int64\n",
      "**********\n",
      "正常值    790500\n",
      "异常值      9500\n",
      "Name: n1_outliers, dtype: int64\n",
      "n1_outliers\n",
      "异常值      2491\n",
      "正常值    157119\n",
      "Name: isDefault, dtype: int64\n",
      "**********\n",
      "正常值    789067\n",
      "异常值     10933\n",
      "Name: n2_outliers, dtype: int64\n",
      "n2_outliers\n",
      "异常值      3205\n",
      "正常值    156405\n",
      "Name: isDefault, dtype: int64\n",
      "**********\n",
      "正常值    789067\n",
      "异常值     10933\n",
      "Name: n3_outliers, dtype: int64\n",
      "n3_outliers\n",
      "异常值      3205\n",
      "正常值    156405\n",
      "Name: isDefault, dtype: int64\n",
      "**********\n",
      "正常值    788660\n",
      "异常值     11340\n",
      "Name: n4_outliers, dtype: int64\n",
      "n4_outliers\n",
      "异常值      2476\n",
      "正常值    157134\n",
      "Name: isDefault, dtype: int64\n",
      "**********\n",
      "正常值    790355\n",
      "异常值      9645\n",
      "Name: n5_outliers, dtype: int64\n",
      "n5_outliers\n",
      "异常值      1858\n",
      "正常值    157752\n",
      "Name: isDefault, dtype: int64\n",
      "**********\n",
      "正常值    786006\n",
      "异常值     13994\n",
      "Name: n6_outliers, dtype: int64\n",
      "n6_outliers\n",
      "异常值      3182\n",
      "正常值    156428\n",
      "Name: isDefault, dtype: int64\n",
      "**********\n",
      "正常值    788430\n",
      "异常值     11570\n",
      "Name: n7_outliers, dtype: int64\n",
      "n7_outliers\n",
      "异常值      2746\n",
      "正常值    156864\n",
      "Name: isDefault, dtype: int64\n",
      "**********\n",
      "正常值    789625\n",
      "异常值     10375\n",
      "Name: n8_outliers, dtype: int64\n",
      "n8_outliers\n",
      "异常值      2131\n",
      "正常值    157479\n",
      "Name: isDefault, dtype: int64\n",
      "**********\n",
      "正常值    786384\n",
      "异常值     13616\n",
      "Name: n9_outliers, dtype: int64\n",
      "n9_outliers\n",
      "异常值      3953\n",
      "正常值    155657\n",
      "Name: isDefault, dtype: int64\n",
      "**********\n",
      "正常值    788979\n",
      "异常值     11021\n",
      "Name: n10_outliers, dtype: int64\n",
      "n10_outliers\n",
      "异常值      2639\n",
      "正常值    156971\n",
      "Name: isDefault, dtype: int64\n",
      "**********\n",
      "正常值    799434\n",
      "异常值       566\n",
      "Name: n11_outliers, dtype: int64\n",
      "n11_outliers\n",
      "异常值       112\n",
      "正常值    159498\n",
      "Name: isDefault, dtype: int64\n",
      "**********\n",
      "正常值    797585\n",
      "异常值      2415\n",
      "Name: n12_outliers, dtype: int64\n",
      "n12_outliers\n",
      "异常值       545\n",
      "正常值    159065\n",
      "Name: isDefault, dtype: int64\n",
      "**********\n",
      "正常值    788907\n",
      "异常值     11093\n",
      "Name: n13_outliers, dtype: int64\n",
      "n13_outliers\n",
      "异常值      2482\n",
      "正常值    157128\n",
      "Name: isDefault, dtype: int64\n",
      "**********\n",
      "正常值    788884\n",
      "异常值     11116\n",
      "Name: n14_outliers, dtype: int64\n",
      "n14_outliers\n",
      "异常值      3364\n",
      "正常值    156246\n",
      "Name: isDefault, dtype: int64\n",
      "**********\n"
     ]
    }
   ],
   "source": [
    "for feature in numerical_feature:\n",
    "    train_data = filter_outliers_3segama(train_data,feature)\n",
    "    print(train_data[feature+\"_outliers\"].value_counts())\n",
    "    print(train_data.groupby(feature+\"_outliers\")[\"isDefault\"].sum())\n",
    "    print(\"*\"*10)"
   ],
   "metadata": {
    "collapsed": false,
    "pycharm": {
     "name": "#%%\n"
    }
   }
  },
  {
   "cell_type": "code",
   "execution_count": 108,
   "outputs": [],
   "source": [
    "# 删除异常值\n",
    "for feature in numerical_feature:\n",
    "    train_data = train_data[train_data[feature+\"_outliers\"]==\"正常值\"]\n",
    "    train_data = train_data.reset_index(drop=True)"
   ],
   "metadata": {
    "collapsed": false,
    "pycharm": {
     "name": "#%%\n"
    }
   }
  },
  {
   "cell_type": "code",
   "execution_count": 109,
   "outputs": [
    {
     "name": "stdout",
     "output_type": "stream",
     "text": [
      "<class 'pandas.core.frame.DataFrame'>\n",
      "RangeIndex: 612742 entries, 0 to 612741\n",
      "Data columns (total 41 columns):\n",
      " #   Column              Non-Null Count   Dtype  \n",
      "---  ------              --------------   -----  \n",
      " 0   id                  612742 non-null  int64  \n",
      " 1   loanAmnt            612742 non-null  float64\n",
      " 2   term                612742 non-null  int64  \n",
      " 3   interestRate        612742 non-null  float64\n",
      " 4   installment         612742 non-null  float64\n",
      " 5   employmentTitle     612742 non-null  float64\n",
      " 6   homeOwnership       612742 non-null  int64  \n",
      " 7   annualIncome        612742 non-null  float64\n",
      " 8   verificationStatus  612742 non-null  int64  \n",
      " 9   purpose             612742 non-null  int64  \n",
      " 10  postCode            612742 non-null  float64\n",
      " 11  regionCode          612742 non-null  int64  \n",
      " 12  dti                 612742 non-null  float64\n",
      " 13  delinquency_2years  612742 non-null  float64\n",
      " 14  ficoRangeLow        612742 non-null  float64\n",
      " 15  ficoRangeHigh       612742 non-null  float64\n",
      " 16  openAcc             612742 non-null  float64\n",
      " 17  pubRec              612742 non-null  float64\n",
      " 18  pubRecBankruptcies  612742 non-null  float64\n",
      " 19  revolBal            612742 non-null  float64\n",
      " 20  revolUtil           612742 non-null  float64\n",
      " 21  totalAcc            612742 non-null  float64\n",
      " 22  initialListStatus   612742 non-null  int64  \n",
      " 23  applicationType     612742 non-null  int64  \n",
      " 24  title               612742 non-null  float64\n",
      " 25  policyCode          612742 non-null  float64\n",
      " 26  n0                  612742 non-null  float64\n",
      " 27  n1                  612742 non-null  float64\n",
      " 28  n2                  612742 non-null  float64\n",
      " 29  n3                  612742 non-null  float64\n",
      " 30  n4                  612742 non-null  float64\n",
      " 31  n5                  612742 non-null  float64\n",
      " 32  n6                  612742 non-null  float64\n",
      " 33  n7                  612742 non-null  float64\n",
      " 34  n8                  612742 non-null  float64\n",
      " 35  n9                  612742 non-null  float64\n",
      " 36  n10                 612742 non-null  float64\n",
      " 37  n11                 612742 non-null  float64\n",
      " 38  n12                 612742 non-null  float64\n",
      " 39  n13                 612742 non-null  float64\n",
      " 40  n14                 612742 non-null  float64\n",
      "dtypes: float64(33), int64(8)\n",
      "memory usage: 191.7 MB\n"
     ]
    }
   ],
   "source": [
    "train_data[numerical_feature].info()"
   ],
   "metadata": {
    "collapsed": false,
    "pycharm": {
     "name": "#%%\n"
    }
   }
  },
  {
   "cell_type": "markdown",
   "source": [
    "#### 数据分箱"
   ],
   "metadata": {
    "collapsed": false,
    "pycharm": {
     "name": "#%% md\n"
    }
   }
  },
  {
   "cell_type": "code",
   "execution_count": 27,
   "outputs": [
    {
     "data": {
      "text/plain": "0         14.0\n1         20.0\n2         12.0\n3         17.0\n4         35.0\n          ... \n612737     NaN\n612738     NaN\n612739     NaN\n612740     NaN\n612741     NaN\nName: loanAmnt_bin1, Length: 612742, dtype: float64"
     },
     "execution_count": 27,
     "metadata": {},
     "output_type": "execute_result"
    }
   ],
   "source": [
    "# 固定宽度分箱 按照10的幂次来分箱\n",
    "train_data[\"loanAmnt_bin1\"] = np.floor_divide(data[\"loanAmnt\"],1000)\n",
    "train_data[\"loanAmnt_bin1\"]"
   ],
   "metadata": {
    "collapsed": false,
    "pycharm": {
     "name": "#%%\n"
    }
   }
  },
  {
   "cell_type": "code",
   "execution_count": 28,
   "outputs": [
    {
     "data": {
      "text/plain": "0         4.0\n1         4.0\n2         4.0\n3         4.0\n4         4.0\n         ... \n612737    NaN\n612738    NaN\n612739    NaN\n612740    NaN\n612741    NaN\nName: loanAmnt_bin2, Length: 612742, dtype: float64"
     },
     "execution_count": 28,
     "metadata": {},
     "output_type": "execute_result"
    }
   ],
   "source": [
    "# 通过对数函数映射到指数宽度分箱\n",
    "train_data[\"loanAmnt_bin2\"] = np.floor(np.log10(data[\"loanAmnt\"]))\n",
    "train_data[\"loanAmnt_bin2\"]"
   ],
   "metadata": {
    "collapsed": false,
    "pycharm": {
     "name": "#%%\n"
    }
   }
  },
  {
   "cell_type": "code",
   "execution_count": 30,
   "outputs": [
    {
     "data": {
      "text/plain": "0         5.0\n1         7.0\n2         4.0\n3         6.0\n4         9.0\n         ... \n612737    NaN\n612738    NaN\n612739    NaN\n612740    NaN\n612741    NaN\nName: loanAmnt_bin3, Length: 612742, dtype: float64"
     },
     "execution_count": 30,
     "metadata": {},
     "output_type": "execute_result"
    }
   ],
   "source": [
    "# 分位数分箱\n",
    "train_data[\"loanAmnt_bin3\"] = pd.qcut(data[\"loanAmnt\"],10,labels=False)\n",
    "train_data[\"loanAmnt_bin3\"]"
   ],
   "metadata": {
    "collapsed": false,
    "pycharm": {
     "name": "#%%\n"
    }
   }
  },
  {
   "cell_type": "markdown",
   "source": [
    "#### 特征交互"
   ],
   "metadata": {
    "collapsed": false,
    "pycharm": {
     "name": "#%% md\n"
    }
   }
  },
  {
   "cell_type": "code",
   "execution_count": 33,
   "outputs": [],
   "source": [
    "for col in ['grade','subGrade']:\n",
    "    temp_dict = train_data.groupby([col])['isDefault'].agg(['mean']).reset_index().rename(columns={\"mean\": col+\"_target_mean\"})\n",
    "    temp_dict.index = temp_dict[col].values\n",
    "    temp_dict = temp_dict[col+\"_target_mean\"].to_dict()\n",
    "\n",
    "    train_data[col + \"_target_mean\"] = train_data[col].map(temp_dict)\n",
    "    test_data[col + \"_target_mean\"] = test_data[col].map(temp_dict)"
   ],
   "metadata": {
    "collapsed": false,
    "pycharm": {
     "name": "#%%\n"
    }
   }
  },
  {
   "cell_type": "code",
   "execution_count": 36,
   "outputs": [],
   "source": [
    "# 基于mean和std的衍生特征\n",
    "for df in [train_data,test_data]:\n",
    "    for item in [\"n0\",\"n1\",\"n2\",\"n3\",\"n4\",\"n5\",\"n6\",\"n7\",\"n8\",\"n9\",\"n10\",\"n11\",\"n12\",\"n13\",\"n14\"]:\n",
    "        df[\"grade_to_mean_\" + item] = df[\"grade\"] / df.groupby([item])['grade'].transform(\"mean\")\n",
    "        df[\"grade_to_std_\" + item] = df[\"grade\"] / df.groupby([item])['grade'].transform(\"std\")"
   ],
   "metadata": {
    "collapsed": false,
    "pycharm": {
     "name": "#%%\n"
    }
   }
  },
  {
   "cell_type": "code",
   "execution_count": 37,
   "outputs": [
    {
     "data": {
      "text/plain": "Index(['id', 'loanAmnt', 'term', 'interestRate', 'installment', 'grade',\n       'subGrade', 'employmentTitle', 'employmentLength', 'homeOwnership',\n       ...\n       'grade_to_mean_n10', 'grade_to_std_n10', 'grade_to_mean_n11',\n       'grade_to_std_n11', 'grade_to_mean_n12', 'grade_to_std_n12',\n       'grade_to_mean_n13', 'grade_to_std_n13', 'grade_to_mean_n14',\n       'grade_to_std_n14'],\n      dtype='object', length=124)"
     },
     "execution_count": 37,
     "metadata": {},
     "output_type": "execute_result"
    }
   ],
   "source": [
    "train_data.columns"
   ],
   "metadata": {
    "collapsed": false,
    "pycharm": {
     "name": "#%%\n"
    }
   }
  },
  {
   "cell_type": "code",
   "execution_count": 38,
   "outputs": [
    {
     "name": "stdout",
     "output_type": "stream",
     "text": [
      "(612742, 124)\n"
     ]
    }
   ],
   "source": [
    "print(train_data.shape)"
   ],
   "metadata": {
    "collapsed": false,
    "pycharm": {
     "name": "#%%\n"
    }
   }
  },
  {
   "cell_type": "markdown",
   "source": [
    "#### 特征编码"
   ],
   "metadata": {
    "collapsed": false,
    "pycharm": {
     "name": "#%% md\n"
    }
   }
  },
  {
   "cell_type": "code",
   "execution_count": 110,
   "outputs": [
    {
     "name": "stderr",
     "output_type": "stream",
     "text": [
      "100%|██████████| 4/4 [00:05<00:00,  1.46s/it]"
     ]
    },
    {
     "name": "stdout",
     "output_type": "stream",
     "text": [
      "Label Encoding编码完成\n"
     ]
    },
    {
     "name": "stderr",
     "output_type": "stream",
     "text": [
      "\n"
     ]
    }
   ],
   "source": [
    "# 对subGrade、postGrade和title这种高维特征进行转化\n",
    "for col in tqdm(['employmentTitle','postCode','title','subGrade']):\n",
    "    le = LabelEncoder()\n",
    "    le.fit(list(train_data[col].astype(str).values) + list(test_data[col].astype(str).values))\n",
    "    train_data[col] = le.transform(list(train_data[col].astype(str).values))\n",
    "    test_data[col] = le.transform(list(test_data[col].astype(str).values))\n",
    "print(\"Label Encoding编码完成\")"
   ],
   "metadata": {
    "collapsed": false,
    "pycharm": {
     "name": "#%%\n"
    }
   }
  },
  {
   "cell_type": "markdown",
   "source": [
    "某些模型需要归一化处理 比如逻辑回归，树模型不需要归一化处理\n",
    "去除一些有高相关性的特征"
   ],
   "metadata": {
    "collapsed": false,
    "pycharm": {
     "name": "#%% md\n"
    }
   }
  },
  {
   "cell_type": "markdown",
   "source": [
    "#### 特征选择\n",
    "*删除无效特征，对缺失值进行补全，然后计算以下协方差看一下特征之间的相关性，最后进行模型训练，得到一个baseline*"
   ],
   "metadata": {
    "collapsed": false,
    "pycharm": {
     "name": "#%% md\n"
    }
   }
  },
  {
   "cell_type": "code",
   "execution_count": 111,
   "outputs": [],
   "source": [
    "for data in [train_data,test_data]:\n",
    "    data.drop(['issueDate','id'],axis=1,inplace=True)"
   ],
   "metadata": {
    "collapsed": false,
    "pycharm": {
     "name": "#%%\n"
    }
   }
  },
  {
   "cell_type": "code",
   "execution_count": 112,
   "outputs": [],
   "source": [
    "train_data = train_data.fillna(axis=0,method='ffill')"
   ],
   "metadata": {
    "collapsed": false,
    "pycharm": {
     "name": "#%%\n"
    }
   }
  },
  {
   "cell_type": "code",
   "execution_count": 113,
   "outputs": [
    {
     "data": {
      "text/plain": "              features      corr\n0             loanAmnt  0.061056\n1                 term  0.174659\n2         interestRate  0.254421\n3          installment  0.043117\n4                grade  0.256237\n5             subGrade  0.262355\n6      employmentTitle  0.012089\n7     employmentLength -0.013105\n8        homeOwnership  0.053502\n9         annualIncome -0.065541\n10  verificationStatus  0.086956\n11             purpose -0.032990\n12            postCode  0.004510\n13          regionCode  0.001558\n14                 dti  0.105192\n15  delinquency_2years  0.014012\n16        ficoRangeLow -0.128541\n17       ficoRangeHigh -0.128541\n18             openAcc  0.017294\n19              pubRec  0.028772\n20  pubRecBankruptcies  0.023167\n21            revolBal -0.019310\n22           revolUtil  0.060353\n23            totalAcc -0.024568\n24   initialListStatus -0.005529\n25     applicationType       NaN\n26   earliesCreditLine  0.038076\n27               title -0.040678\n28          policyCode       NaN\n29                  n0  0.015002\n30                  n1  0.035943\n31                  n2  0.067048\n32                  n3  0.067048\n33                  n4  0.009364\n34                  n5 -0.021715\n35                  n6 -0.004452\n36                  n7  0.027581\n37                  n8 -0.011180\n38                  n9  0.064747\n39                 n10  0.015907\n40                 n11       NaN\n41                 n12       NaN\n42                 n13  0.010801\n43                 n14  0.078981\n44         issueDateDT  0.043304",
      "text/html": "<div>\n<style scoped>\n    .dataframe tbody tr th:only-of-type {\n        vertical-align: middle;\n    }\n\n    .dataframe tbody tr th {\n        vertical-align: top;\n    }\n\n    .dataframe thead th {\n        text-align: right;\n    }\n</style>\n<table border=\"1\" class=\"dataframe\">\n  <thead>\n    <tr style=\"text-align: right;\">\n      <th></th>\n      <th>features</th>\n      <th>corr</th>\n    </tr>\n  </thead>\n  <tbody>\n    <tr>\n      <th>0</th>\n      <td>loanAmnt</td>\n      <td>0.061056</td>\n    </tr>\n    <tr>\n      <th>1</th>\n      <td>term</td>\n      <td>0.174659</td>\n    </tr>\n    <tr>\n      <th>2</th>\n      <td>interestRate</td>\n      <td>0.254421</td>\n    </tr>\n    <tr>\n      <th>3</th>\n      <td>installment</td>\n      <td>0.043117</td>\n    </tr>\n    <tr>\n      <th>4</th>\n      <td>grade</td>\n      <td>0.256237</td>\n    </tr>\n    <tr>\n      <th>5</th>\n      <td>subGrade</td>\n      <td>0.262355</td>\n    </tr>\n    <tr>\n      <th>6</th>\n      <td>employmentTitle</td>\n      <td>0.012089</td>\n    </tr>\n    <tr>\n      <th>7</th>\n      <td>employmentLength</td>\n      <td>-0.013105</td>\n    </tr>\n    <tr>\n      <th>8</th>\n      <td>homeOwnership</td>\n      <td>0.053502</td>\n    </tr>\n    <tr>\n      <th>9</th>\n      <td>annualIncome</td>\n      <td>-0.065541</td>\n    </tr>\n    <tr>\n      <th>10</th>\n      <td>verificationStatus</td>\n      <td>0.086956</td>\n    </tr>\n    <tr>\n      <th>11</th>\n      <td>purpose</td>\n      <td>-0.032990</td>\n    </tr>\n    <tr>\n      <th>12</th>\n      <td>postCode</td>\n      <td>0.004510</td>\n    </tr>\n    <tr>\n      <th>13</th>\n      <td>regionCode</td>\n      <td>0.001558</td>\n    </tr>\n    <tr>\n      <th>14</th>\n      <td>dti</td>\n      <td>0.105192</td>\n    </tr>\n    <tr>\n      <th>15</th>\n      <td>delinquency_2years</td>\n      <td>0.014012</td>\n    </tr>\n    <tr>\n      <th>16</th>\n      <td>ficoRangeLow</td>\n      <td>-0.128541</td>\n    </tr>\n    <tr>\n      <th>17</th>\n      <td>ficoRangeHigh</td>\n      <td>-0.128541</td>\n    </tr>\n    <tr>\n      <th>18</th>\n      <td>openAcc</td>\n      <td>0.017294</td>\n    </tr>\n    <tr>\n      <th>19</th>\n      <td>pubRec</td>\n      <td>0.028772</td>\n    </tr>\n    <tr>\n      <th>20</th>\n      <td>pubRecBankruptcies</td>\n      <td>0.023167</td>\n    </tr>\n    <tr>\n      <th>21</th>\n      <td>revolBal</td>\n      <td>-0.019310</td>\n    </tr>\n    <tr>\n      <th>22</th>\n      <td>revolUtil</td>\n      <td>0.060353</td>\n    </tr>\n    <tr>\n      <th>23</th>\n      <td>totalAcc</td>\n      <td>-0.024568</td>\n    </tr>\n    <tr>\n      <th>24</th>\n      <td>initialListStatus</td>\n      <td>-0.005529</td>\n    </tr>\n    <tr>\n      <th>25</th>\n      <td>applicationType</td>\n      <td>NaN</td>\n    </tr>\n    <tr>\n      <th>26</th>\n      <td>earliesCreditLine</td>\n      <td>0.038076</td>\n    </tr>\n    <tr>\n      <th>27</th>\n      <td>title</td>\n      <td>-0.040678</td>\n    </tr>\n    <tr>\n      <th>28</th>\n      <td>policyCode</td>\n      <td>NaN</td>\n    </tr>\n    <tr>\n      <th>29</th>\n      <td>n0</td>\n      <td>0.015002</td>\n    </tr>\n    <tr>\n      <th>30</th>\n      <td>n1</td>\n      <td>0.035943</td>\n    </tr>\n    <tr>\n      <th>31</th>\n      <td>n2</td>\n      <td>0.067048</td>\n    </tr>\n    <tr>\n      <th>32</th>\n      <td>n3</td>\n      <td>0.067048</td>\n    </tr>\n    <tr>\n      <th>33</th>\n      <td>n4</td>\n      <td>0.009364</td>\n    </tr>\n    <tr>\n      <th>34</th>\n      <td>n5</td>\n      <td>-0.021715</td>\n    </tr>\n    <tr>\n      <th>35</th>\n      <td>n6</td>\n      <td>-0.004452</td>\n    </tr>\n    <tr>\n      <th>36</th>\n      <td>n7</td>\n      <td>0.027581</td>\n    </tr>\n    <tr>\n      <th>37</th>\n      <td>n8</td>\n      <td>-0.011180</td>\n    </tr>\n    <tr>\n      <th>38</th>\n      <td>n9</td>\n      <td>0.064747</td>\n    </tr>\n    <tr>\n      <th>39</th>\n      <td>n10</td>\n      <td>0.015907</td>\n    </tr>\n    <tr>\n      <th>40</th>\n      <td>n11</td>\n      <td>NaN</td>\n    </tr>\n    <tr>\n      <th>41</th>\n      <td>n12</td>\n      <td>NaN</td>\n    </tr>\n    <tr>\n      <th>42</th>\n      <td>n13</td>\n      <td>0.010801</td>\n    </tr>\n    <tr>\n      <th>43</th>\n      <td>n14</td>\n      <td>0.078981</td>\n    </tr>\n    <tr>\n      <th>44</th>\n      <td>issueDateDT</td>\n      <td>0.043304</td>\n    </tr>\n  </tbody>\n</table>\n</div>"
     },
     "execution_count": 113,
     "metadata": {},
     "output_type": "execute_result"
    }
   ],
   "source": [
    "x_train = train_data.drop(['isDefault'],axis=1)\n",
    "# 计算协方差\n",
    "data_corr = x_train.corrwith(train_data['isDefault'])\n",
    "result = pd.DataFrame(columns=['features','corr'])\n",
    "result['features'] = data_corr.index\n",
    "result['corr'] = data_corr.values\n",
    "result"
   ],
   "metadata": {
    "collapsed": false,
    "pycharm": {
     "name": "#%%\n"
    }
   }
  },
  {
   "cell_type": "code",
   "execution_count": 114,
   "outputs": [
    {
     "data": {
      "text/plain": "<Axes: title={'center': 'Correlation of numberical features'}>"
     },
     "execution_count": 114,
     "metadata": {},
     "output_type": "execute_result"
    },
    {
     "data": {
      "text/plain": "<Figure size 700x700 with 2 Axes>",
      "image/png": "[encoded data removed]"
     },
     "metadata": {},
     "output_type": "display_data"
    }
   ],
   "source": [
    "# 画热力图\n",
    "numerical_feature = list(train_data.select_dtypes(exclude=['object']).columns)\n",
    "data_numerical = train_data[numerical_feature]\n",
    "correlation = data_numerical.corr()\n",
    "fg,ax = plt.subplots(figsize=(7,7))\n",
    "plt.title(\"Correlation of numberical features\", y=1, size=16)\n",
    "sns.heatmap(correlation,square=True, vmax=0.8)"
   ],
   "metadata": {
    "collapsed": false,
    "pycharm": {
     "name": "#%%\n"
    }
   }
  },
  {
   "cell_type": "code",
   "execution_count": 115,
   "outputs": [],
   "source": [
    "features = [f for f in train_data.columns if f not in ['id','issueDate','isDefault'] and '_outliers' not in f]\n",
    "x_train = train_data[features]\n",
    "x_test = train_data[features]\n",
    "y_train = train_data['isDefault']"
   ],
   "metadata": {
    "collapsed": false,
    "pycharm": {
     "name": "#%%\n"
    }
   }
  },
  {
   "cell_type": "code",
   "execution_count": 142,
   "outputs": [],
   "source": [
    "def cv_model(clf,train_x,train_y,test_x,clf_name):\n",
    "    folds = 5\n",
    "    seed = 2023\n",
    "    kf = KFold(n_splits=folds,shuffle=True,random_state=seed)\n",
    "\n",
    "    train = np.zeros(train_x.shape[0])\n",
    "    test = np.zeros(test_x.shape[0])\n",
    "    cv_scores = []\n",
    "\n",
    "    # 拆分数据集进行训练\n",
    "    for i, (train_index,valid_index) in enumerate(kf.split(train_x,train_y)):\n",
    "        print(f\"***********************第{str(i+1)}折训练\")\n",
    "        # 分割数据集\n",
    "        train_feature,train_label,valid_feature,valid_label = train_x.iloc[train_index], train_y.iloc[train_index], train_x.iloc[valid_index], train_y.iloc[valid_index]\n",
    "\n",
    "        if clf_name == \"lgb\":\n",
    "            # lightGBM的模型输入数据必须转换成这种形式\n",
    "            train_matrix = clf.Dataset(train_feature,train_label)\n",
    "            valid_matrix = clf.Dataset(valid_feature,valid_label)\n",
    "\n",
    "            # 这里写死参数，后面阶段在进行调参\n",
    "            params = {\n",
    "                'boosting_type': 'gbdt',\n",
    "                'objective': 'binary',\n",
    "                'metric': 'auc',\n",
    "                'min_child_weight': 5,\n",
    "                'num_leaves': 2 ** 5,\n",
    "                'lambda_l2': 10,\n",
    "                'feature_fraction': 0.8,\n",
    "                'bagging_fraction': 0.8,\n",
    "                'bagging_freq': 4,\n",
    "                'learning_rate': 0.1,\n",
    "                'seed': 2020,\n",
    "                'nthread': 28,\n",
    "                'n_jobs':24,\n",
    "                'verbose': -1,\n",
    "            }\n",
    "\n",
    "            model = clf.train(params,train_matrix,50000,valid_sets=[train_matrix,valid_matrix],\n",
    "                              verbose_eval=200,early_stopping_rounds=200)\n",
    "            valid_pred = model.predict(valid_feature,num_iteration=model.best_iteration)\n",
    "            # 测试集预测\n",
    "            test_pred = model.predict(test_x,num_iteration=model.best_iteration)\n",
    "\n",
    "        if clf_name == \"xgb\":\n",
    "            train_matrix = clf.DMatrix(train_feature,label=train_label)\n",
    "            valid_matrix = clf.DMatrix(valid_feature,label=valid_label)\n",
    "\n",
    "            params = {'booster': 'gbtree',\n",
    "                      'objective': 'binary:logistic',\n",
    "                      'eval_metric': 'auc',\n",
    "                      'gamma': 1,\n",
    "                      'min_child_weight': 1.5,\n",
    "                      'max_depth': 5,\n",
    "                      'lambda': 10,\n",
    "                      'subsample': 0.7,\n",
    "                      'colsample_bytree': 0.7,\n",
    "                      'colsample_bylevel': 0.7,\n",
    "                      'eta': 0.04,\n",
    "                      'tree_method': 'exact',\n",
    "                      'seed': 2020,\n",
    "                      'nthread': 36,\n",
    "                      }\n",
    "\n",
    "            watch_list = [(train_matrix,\"train\"),(valid_matrix,'eval')]\n",
    "\n",
    "            model = clf.train(params,train_matrix,num_boost_round=50000,evals=watch_list,\n",
    "                              verbose_eval=200,early_stopping_rounds=200)\n",
    "            valid_pred = model.predict(valid_matrix,ntree_limit=model.best_ntree_limit)\n",
    "            # 测试集预测\n",
    "            test_pred = model.predict(test_x,ntree_limit=model.best_ntree_limit)\n",
    "\n",
    "        if clf_name == \"cat\":\n",
    "\n",
    "            param = {'learning_rate': 0.05,\n",
    "                      'depth': 5,\n",
    "                      'l2_leaf_reg': 10,\n",
    "                      'bootstrap_type': 'Bernoulli',\n",
    "                      'od_type': 'Iter',\n",
    "                      'od_wait': 50,\n",
    "                      'random_seed': 11,\n",
    "                      'allow_writing_files': False}\n",
    "\n",
    "            watch_list = [(train_matrix,\"train\"),(valid_matrix,'eval')]\n",
    "            model = clf.train(params=params,dtrain=train_matrix,num_boost_round=50000,evals=watch_list,\n",
    "                              verbose_eval=200,early_stopping_rounds=200)\n",
    "\n",
    "            valid_pred = model.predict(valid_feature)\n",
    "            test_pred = model.predict(test_x)\n",
    "\n",
    "        # 保存结果\n",
    "        train[valid_index] = valid_pred\n",
    "        test = test_pred / kf.n_splits\n",
    "        cv_scores.append(roc_auc_score(valid_label,valid_pred))\n",
    "\n",
    "        print(cv_scores)\n",
    "\n",
    "    print(f\"{clf_name} score_list:{cv_scores}\")\n",
    "    print(f\"{clf_name} score_mean:{np.mean(cv_scores)}\")\n",
    "    print(f\"{clf_name} score_std:{np.std(cv_scores)}\")\n",
    "    return train,test"
   ],
   "metadata": {
    "collapsed": false,
    "pycharm": {
     "name": "#%%\n"
    }
   }
  },
  {
   "cell_type": "code",
   "execution_count": 143,
   "outputs": [],
   "source": [
    "# LightGBM模型\n",
    "def lgb_model(train_x,train_y,test_x):\n",
    "    lgb_train,lgb_test = cv_model(lgb,train_x,train_y,test_x,\"lgb\")\n",
    "    return lgb_train,lgb_test\n",
    "\n",
    "# XgBoost模型\n",
    "def xgb_model(train_x,train_y,test_x):\n",
    "    xgb_train,xgb_test = cv_model(xgb,train_x,train_y,test_x,\"xgb\")\n",
    "    return xgb_train,xgb_test\n",
    "\n",
    "# CatBoost模型\n",
    "def cat_model(train_x,train_y,test_x):\n",
    "    cat_train,cat_test = cv_model(cat,train_x,train_y,test_x,'cat')\n",
    "    return cat_test,cat_test"
   ],
   "metadata": {
    "collapsed": false,
    "pycharm": {
     "name": "#%%\n"
    }
   }
  },
  {
   "cell_type": "code",
   "execution_count": 119,
   "outputs": [
    {
     "name": "stdout",
     "output_type": "stream",
     "text": [
      "***********************第1折训练\n",
      "[LightGBM] [Warning] num_threads is set with nthread=28, will be overridden by n_jobs=24. Current value: num_threads=24\n",
      "[LightGBM] [Warning] Unknown parameter: silent\n",
      "Training until validation scores don't improve for 200 rounds\n",
      "[200]\ttraining's auc: 0.748665\tvalid_1's auc: 0.729976\n",
      "[400]\ttraining's auc: 0.763796\tvalid_1's auc: 0.730954\n",
      "[600]\ttraining's auc: 0.776608\tvalid_1's auc: 0.731378\n",
      "[800]\ttraining's auc: 0.78896\tvalid_1's auc: 0.730733\n",
      "Early stopping, best iteration is:\n",
      "[635]\ttraining's auc: 0.778844\tvalid_1's auc: 0.731505\n",
      "[0.7315050893159135]\n",
      "***********************第2折训练\n",
      "[LightGBM] [Warning] num_threads is set with nthread=28, will be overridden by n_jobs=24. Current value: num_threads=24\n",
      "[LightGBM] [Warning] Unknown parameter: silent\n",
      "Training until validation scores don't improve for 200 rounds\n",
      "[200]\ttraining's auc: 0.748676\tvalid_1's auc: 0.729722\n",
      "[400]\ttraining's auc: 0.76418\tvalid_1's auc: 0.730763\n",
      "[600]\ttraining's auc: 0.777555\tvalid_1's auc: 0.730454\n",
      "Early stopping, best iteration is:\n",
      "[426]\ttraining's auc: 0.765996\tvalid_1's auc: 0.730817\n",
      "[0.7315050893159135, 0.7308165454171978]\n",
      "***********************第3折训练\n",
      "[LightGBM] [Warning] num_threads is set with nthread=28, will be overridden by n_jobs=24. Current value: num_threads=24\n",
      "[LightGBM] [Warning] Unknown parameter: silent\n",
      "Training until validation scores don't improve for 200 rounds\n",
      "[200]\ttraining's auc: 0.748329\tvalid_1's auc: 0.732623\n",
      "[400]\ttraining's auc: 0.763673\tvalid_1's auc: 0.733516\n",
      "[600]\ttraining's auc: 0.776739\tvalid_1's auc: 0.733732\n",
      "Early stopping, best iteration is:\n",
      "[565]\ttraining's auc: 0.774588\tvalid_1's auc: 0.733757\n",
      "[0.7315050893159135, 0.7308165454171978, 0.7337571107464893]\n",
      "***********************第4折训练\n",
      "[LightGBM] [Warning] num_threads is set with nthread=28, will be overridden by n_jobs=24. Current value: num_threads=24\n",
      "[LightGBM] [Warning] Unknown parameter: silent\n",
      "Training until validation scores don't improve for 200 rounds\n",
      "[200]\ttraining's auc: 0.74819\tvalid_1's auc: 0.732196\n",
      "[400]\ttraining's auc: 0.763576\tvalid_1's auc: 0.732707\n",
      "[600]\ttraining's auc: 0.776982\tvalid_1's auc: 0.732939\n",
      "[800]\ttraining's auc: 0.789152\tvalid_1's auc: 0.732663\n",
      "Early stopping, best iteration is:\n",
      "[640]\ttraining's auc: 0.779598\tvalid_1's auc: 0.733079\n",
      "[0.7315050893159135, 0.7308165454171978, 0.7337571107464893, 0.7330788179530441]\n",
      "***********************第5折训练\n",
      "[LightGBM] [Warning] num_threads is set with nthread=28, will be overridden by n_jobs=24. Current value: num_threads=24\n",
      "[LightGBM] [Warning] Unknown parameter: silent\n",
      "Training until validation scores don't improve for 200 rounds\n",
      "[200]\ttraining's auc: 0.74844\tvalid_1's auc: 0.731172\n",
      "[400]\ttraining's auc: 0.763722\tvalid_1's auc: 0.731909\n",
      "[600]\ttraining's auc: 0.777074\tvalid_1's auc: 0.73185\n",
      "Early stopping, best iteration is:\n",
      "[488]\ttraining's auc: 0.769791\tvalid_1's auc: 0.732019\n",
      "[0.7315050893159135, 0.7308165454171978, 0.7337571107464893, 0.7330788179530441, 0.7320185463005393]\n",
      "lgb score_list:[0.7315050893159135, 0.7308165454171978, 0.7337571107464893, 0.7330788179530441, 0.7320185463005393]\n",
      "lgb score_mean:0.7322352219466367\n",
      "lgb score_std:0.00106023439204571\n"
     ]
    }
   ],
   "source": [
    "lgb_train, lgb_test = lgb_model(x_train,y_train,x_test)"
   ],
   "metadata": {
    "collapsed": false,
    "pycharm": {
     "name": "#%%\n"
    }
   }
  },
  {
   "cell_type": "markdown",
   "source": [],
   "metadata": {
    "collapsed": false,
    "pycharm": {
     "name": "#%% md\n"
    }
   }
  },
  {
   "cell_type": "markdown",
   "source": [],
   "metadata": {
    "collapsed": false,
    "pycharm": {
     "name": "#%% md\n"
    }
   }
  },
  {
   "cell_type": "code",
   "execution_count": 144,
   "outputs": [
    {
     "name": "stdout",
     "output_type": "stream",
     "text": [
      "***********************第1折训练\n",
      "[0]\ttrain-auc:0.69601\teval-auc:0.69204\n",
      "[200]\ttrain-auc:0.73115\teval-auc:0.72396\n",
      "[400]\ttrain-auc:0.74003\teval-auc:0.72841\n",
      "[600]\ttrain-auc:0.74607\teval-auc:0.73037\n",
      "[800]\ttrain-auc:0.75091\teval-auc:0.73136\n",
      "[1000]\ttrain-auc:0.75549\teval-auc:0.73199\n",
      "[1200]\ttrain-auc:0.75978\teval-auc:0.73246\n",
      "[1400]\ttrain-auc:0.76365\teval-auc:0.73273\n",
      "[1600]\ttrain-auc:0.76730\teval-auc:0.73283\n",
      "[1800]\ttrain-auc:0.77068\teval-auc:0.73301\n",
      "[2000]\ttrain-auc:0.77415\teval-auc:0.73307\n",
      "[2200]\ttrain-auc:0.77745\teval-auc:0.73307\n",
      "[2358]\ttrain-auc:0.77992\teval-auc:0.73299\n"
     ]
    },
    {
     "ename": "TypeError",
     "evalue": "('Expecting data to be a DMatrix object, got: ', <class 'pandas.core.frame.DataFrame'>)",
     "output_type": "error",
     "traceback": [
      "\u001B[1;31m---------------------------------------------------------------------------\u001B[0m",
      "\u001B[1;31mTypeError\u001B[0m                                 Traceback (most recent call last)",
      "Cell \u001B[1;32mIn[144], line 1\u001B[0m\n\u001B[1;32m----> 1\u001B[0m cat_train, cat_test \u001B[38;5;241m=\u001B[39m \u001B[43mxgb_model\u001B[49m\u001B[43m(\u001B[49m\u001B[43mx_train\u001B[49m\u001B[43m,\u001B[49m\u001B[43my_train\u001B[49m\u001B[43m,\u001B[49m\u001B[43mx_test\u001B[49m\u001B[43m)\u001B[49m\n",
      "Cell \u001B[1;32mIn[143], line 8\u001B[0m, in \u001B[0;36mxgb_model\u001B[1;34m(train_x, train_y, test_x)\u001B[0m\n\u001B[0;32m      7\u001B[0m \u001B[38;5;28;01mdef\u001B[39;00m \u001B[38;5;21mxgb_model\u001B[39m(train_x,train_y,test_x):\n\u001B[1;32m----> 8\u001B[0m     xgb_train,xgb_test \u001B[38;5;241m=\u001B[39m \u001B[43mcv_model\u001B[49m\u001B[43m(\u001B[49m\u001B[43mxgb\u001B[49m\u001B[43m,\u001B[49m\u001B[43mtrain_x\u001B[49m\u001B[43m,\u001B[49m\u001B[43mtrain_y\u001B[49m\u001B[43m,\u001B[49m\u001B[43mtest_x\u001B[49m\u001B[43m,\u001B[49m\u001B[38;5;124;43m\"\u001B[39;49m\u001B[38;5;124;43mxgb\u001B[39;49m\u001B[38;5;124;43m\"\u001B[39;49m\u001B[43m)\u001B[49m\n\u001B[0;32m      9\u001B[0m     \u001B[38;5;28;01mreturn\u001B[39;00m xgb_train,xgb_test\n",
      "Cell \u001B[1;32mIn[142], line 71\u001B[0m, in \u001B[0;36mcv_model\u001B[1;34m(clf, train_x, train_y, test_x, clf_name)\u001B[0m\n\u001B[0;32m     69\u001B[0m     valid_pred \u001B[38;5;241m=\u001B[39m model\u001B[38;5;241m.\u001B[39mpredict(valid_matrix,ntree_limit\u001B[38;5;241m=\u001B[39mmodel\u001B[38;5;241m.\u001B[39mbest_ntree_limit)\n\u001B[0;32m     70\u001B[0m     \u001B[38;5;66;03m# 测试集预测\u001B[39;00m\n\u001B[1;32m---> 71\u001B[0m     test_pred \u001B[38;5;241m=\u001B[39m \u001B[43mmodel\u001B[49m\u001B[38;5;241;43m.\u001B[39;49m\u001B[43mpredict\u001B[49m\u001B[43m(\u001B[49m\u001B[43mtest_x\u001B[49m\u001B[43m,\u001B[49m\u001B[43mntree_limit\u001B[49m\u001B[38;5;241;43m=\u001B[39;49m\u001B[43mmodel\u001B[49m\u001B[38;5;241;43m.\u001B[39;49m\u001B[43mbest_ntree_limit\u001B[49m\u001B[43m)\u001B[49m\n\u001B[0;32m     73\u001B[0m \u001B[38;5;28;01mif\u001B[39;00m clf_name \u001B[38;5;241m==\u001B[39m \u001B[38;5;124m\"\u001B[39m\u001B[38;5;124mcat\u001B[39m\u001B[38;5;124m\"\u001B[39m:\n\u001B[0;32m     75\u001B[0m     param \u001B[38;5;241m=\u001B[39m {\u001B[38;5;124m'\u001B[39m\u001B[38;5;124mlearning_rate\u001B[39m\u001B[38;5;124m'\u001B[39m: \u001B[38;5;241m0.05\u001B[39m,\n\u001B[0;32m     76\u001B[0m               \u001B[38;5;124m'\u001B[39m\u001B[38;5;124mdepth\u001B[39m\u001B[38;5;124m'\u001B[39m: \u001B[38;5;241m5\u001B[39m,\n\u001B[0;32m     77\u001B[0m               \u001B[38;5;124m'\u001B[39m\u001B[38;5;124ml2_leaf_reg\u001B[39m\u001B[38;5;124m'\u001B[39m: \u001B[38;5;241m10\u001B[39m,\n\u001B[1;32m   (...)\u001B[0m\n\u001B[0;32m     81\u001B[0m               \u001B[38;5;124m'\u001B[39m\u001B[38;5;124mrandom_seed\u001B[39m\u001B[38;5;124m'\u001B[39m: \u001B[38;5;241m11\u001B[39m,\n\u001B[0;32m     82\u001B[0m               \u001B[38;5;124m'\u001B[39m\u001B[38;5;124mallow_writing_files\u001B[39m\u001B[38;5;124m'\u001B[39m: \u001B[38;5;28;01mFalse\u001B[39;00m}\n",
      "File \u001B[1;32m~\\AppData\\Roaming\\Python\\Python310\\site-packages\\xgboost\\core.py:2135\u001B[0m, in \u001B[0;36mBooster.predict\u001B[1;34m(self, data, output_margin, ntree_limit, pred_leaf, pred_contribs, approx_contribs, pred_interactions, validate_features, training, iteration_range, strict_shape)\u001B[0m\n\u001B[0;32m   2052\u001B[0m \u001B[38;5;250m\u001B[39m\u001B[38;5;124;03m\"\"\"Predict with data.  The full model will be used unless `iteration_range` is specified,\u001B[39;00m\n\u001B[0;32m   2053\u001B[0m \u001B[38;5;124;03mmeaning user have to either slice the model or use the ``best_iteration``\u001B[39;00m\n\u001B[0;32m   2054\u001B[0m \u001B[38;5;124;03mattribute to get prediction from best model returned from early stopping.\u001B[39;00m\n\u001B[1;32m   (...)\u001B[0m\n\u001B[0;32m   2132\u001B[0m \n\u001B[0;32m   2133\u001B[0m \u001B[38;5;124;03m\"\"\"\u001B[39;00m\n\u001B[0;32m   2134\u001B[0m \u001B[38;5;28;01mif\u001B[39;00m \u001B[38;5;129;01mnot\u001B[39;00m \u001B[38;5;28misinstance\u001B[39m(data, DMatrix):\n\u001B[1;32m-> 2135\u001B[0m     \u001B[38;5;28;01mraise\u001B[39;00m \u001B[38;5;167;01mTypeError\u001B[39;00m(\u001B[38;5;124m'\u001B[39m\u001B[38;5;124mExpecting data to be a DMatrix object, got: \u001B[39m\u001B[38;5;124m'\u001B[39m, \u001B[38;5;28mtype\u001B[39m(data))\n\u001B[0;32m   2136\u001B[0m \u001B[38;5;28;01mif\u001B[39;00m validate_features:\n\u001B[0;32m   2137\u001B[0m     \u001B[38;5;28mself\u001B[39m\u001B[38;5;241m.\u001B[39m_validate_dmatrix_features(data)\n",
      "\u001B[1;31mTypeError\u001B[0m: ('Expecting data to be a DMatrix object, got: ', <class 'pandas.core.frame.DataFrame'>)"
     ]
    }
   ],
   "source": [
    "cat_train, cat_test = xgb_model(x_train,y_train,x_test)"
   ],
   "metadata": {
    "collapsed": false,
    "pycharm": {
     "name": "#%%\n"
    }
   }
  },
  {
   "cell_type": "markdown",
   "source": [],
   "metadata": {
    "collapsed": false,
    "pycharm": {
     "name": "#%% md\n"
    }
   }
  },
  {
   "cell_type": "code",
   "execution_count": null,
   "outputs": [],
   "source": [],
   "metadata": {
    "collapsed": false,
    "pycharm": {
     "name": "#%%\n"
    }
   }
  },
  {
   "cell_type": "markdown",
   "source": [],
   "metadata": {
    "collapsed": false,
    "pycharm": {
     "name": "#%% md\n"
    }
   }
  }
 ],
 "metadata": {
  "kernelspec": {
   "display_name": "Python 3",
   "language": "python",
   "name": "python3"
  },
  "language_info": {
   "codemirror_mode": {
    "name": "ipython",
    "version": 2
   },
   "file_extension": ".py",
   "mimetype": "text/x-python",
   "name": "python",
   "nbconvert_exporter": "python",
   "pygments_lexer": "ipython2",
   "version": "2.7.6"
  }
 },
 "nbformat": 4,
 "nbformat_minor": 0
}