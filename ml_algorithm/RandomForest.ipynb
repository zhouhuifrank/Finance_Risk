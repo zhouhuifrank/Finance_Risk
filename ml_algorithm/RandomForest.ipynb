{
 "cells": [
  {
   "cell_type": "code",
   "execution_count": 1,
   "outputs": [],
   "source": [
    "import pandas as pd\n",
    "import numpy as np\n",
    "from sklearn.ensemble import RandomForestClassifier\n",
    "from sklearn.ensemble import RandomForestRegressor\n",
    "from sklearn.model_selection import GridSearchCV"
   ],
   "metadata": {
    "collapsed": false,
    "pycharm": {
     "name": "#%%\n"
    }
   }
  },
  {
   "cell_type": "markdown",
   "source": [
    "#### GridSearchCV 网络搜索"
   ],
   "metadata": {
    "collapsed": false,
    "pycharm": {
     "name": "#%% md\n"
    }
   }
  },
  {
   "cell_type": "code",
   "execution_count": 5,
   "outputs": [
    {
     "name": "stdout",
     "output_type": "stream",
     "text": [
      "最优得分为:0.9666666666666668\n",
      "最优参数为:{'max_depth': 11, 'n_estimators': 5}\n"
     ]
    }
   ],
   "source": [
    "from sklearn.datasets import load_iris\n",
    "\n",
    "iris = load_iris()\n",
    "features = iris.data\n",
    "labels = iris.target\n",
    "rf = RandomForestClassifier()\n",
    "# 参数是字典形式的\n",
    "parameters = {\"n_estimators\": range(1,11),\"max_depth\": range(10,20)}\n",
    "clf = GridSearchCV(estimator=rf, param_grid=parameters)\n",
    "# 使用调优后的参数进行训练\n",
    "clf.fit(features,labels)\n",
    "acc = clf.best_score_\n",
    "best_param = clf.best_params_\n",
    "print(f\"最优得分为:{acc}\")\n",
    "print(f\"最优参数为:{best_param}\")"
   ],
   "metadata": {
    "collapsed": false,
    "pycharm": {
     "name": "#%%\n"
    }
   }
  },
  {
   "cell_type": "markdown",
   "source": [
    "### 使用Pipeline管道机制进行训练"
   ],
   "metadata": {
    "collapsed": false,
    "pycharm": {
     "name": "#%% md\n"
    }
   }
  },
  {
   "cell_type": "code",
   "execution_count": 12,
   "outputs": [
    {
     "name": "stdout",
     "output_type": "stream",
     "text": [
      "最优得分为:0.9666666666666668\n",
      "最优参数为:{'randomforestclassifier__n_estimators': 5}\n"
     ]
    }
   ],
   "source": [
    "from sklearn.preprocessing import StandardScaler\n",
    "from sklearn.decomposition import PCA\n",
    "from sklearn.pipeline import Pipeline\n",
    "\n",
    "iris = load_iris()\n",
    "features = iris.data\n",
    "labels = iris.target\n",
    "rf = RandomForestClassifier()\n",
    "# parameters = {\"randomforestclassifier__n_estimators\": range(1,11),\"randomforestclassifier__max_depth\": range(0,20)}\n",
    "parameters = {\"randomforestclassifier__n_estimators\": range(1,11)}\n",
    "pipeline = Pipeline([\n",
    "    ('scaler',StandardScaler()),\n",
    "    ('randomforestclassifier',rf)\n",
    "])\n",
    "# 使用网格搜索进行调参\n",
    "clf = GridSearchCV(pipeline,parameters)\n",
    "clf.fit(features,labels)\n",
    "acc = clf.best_score_\n",
    "best_param = clf.best_params_\n",
    "print(f\"最优得分为:{acc}\")\n",
    "print(f\"最优参数为:{best_param}\")"
   ],
   "metadata": {
    "collapsed": false,
    "pycharm": {
     "name": "#%%\n"
    }
   }
  },
  {
   "cell_type": "markdown",
   "source": [
    "### 信用卡违约率分析"
   ],
   "metadata": {
    "collapsed": false,
    "pycharm": {
     "name": "#%% md\n"
    }
   }
  },
  {
   "cell_type": "code",
   "execution_count": null,
   "outputs": [],
   "source": [],
   "metadata": {
    "collapsed": false,
    "pycharm": {
     "name": "#%%\n"
    }
   }
  }
 ],
 "metadata": {
  "kernelspec": {
   "display_name": "Python 3",
   "language": "python",
   "name": "python3"
  },
  "language_info": {
   "codemirror_mode": {
    "name": "ipython",
    "version": 2
   },
   "file_extension": ".py",
   "mimetype": "text/x-python",
   "name": "python",
   "nbconvert_exporter": "python",
   "pygments_lexer": "ipython2",
   "version": "2.7.6"
  }
 },
 "nbformat": 4,
 "nbformat_minor": 0
}