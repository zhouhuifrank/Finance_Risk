{
 "cells": [
  {
   "cell_type": "code",
   "execution_count": 2,
   "outputs": [],
   "source": [
    "import pandas as pd\n",
    "import numpy as np\n",
    "from sklearn.ensemble import AdaBoostClassifier\n",
    "from sklearn.ensemble import AdaBoostRegressor\n",
    "from sklearn.model_selection import train_test_split\n",
    "from sklearn.metrics import mean_squared_error,mean_absolute_error\n",
    "from sklearn.datasets import fetch_california_housing"
   ],
   "metadata": {
    "collapsed": false,
    "pycharm": {
     "name": "#%%\n"
    }
   }
  },
  {
   "cell_type": "code",
   "execution_count": 9,
   "outputs": [
    {
     "name": "stdout",
     "output_type": "stream",
     "text": [
      "房价预测结果: [2.35283791 3.14366733 2.12308568 ... 3.6859154  1.54814867 2.97251255]\n",
      "预测均方误差:0.7967\n",
      "预测绝对误差:0.7709\n"
     ]
    }
   ],
   "source": [
    "# 载入数据\n",
    "housing = fetch_california_housing()\n",
    "data = housing.data\n",
    "target = housing.target\n",
    "# 分割数据集\n",
    "train_features,test_features,train_labels,test_labels = train_test_split(data,target,test_size=0.3,random_state=0)\n",
    "regressor = AdaBoostRegressor()\n",
    "regressor.fit(train_features,train_labels)\n",
    "pred_values = regressor.predict(test_features)\n",
    "MSE = round(mean_squared_error(test_labels,pred_values),4)\n",
    "MAE = round(mean_absolute_error(test_labels,pred_values),4)\n",
    "print(f\"房价预测结果:\",pred_values)\n",
    "print(f\"预测均方误差:{MSE}\")\n",
    "print(f\"预测绝对误差:{MAE}\")"
   ],
   "metadata": {
    "collapsed": false,
    "pycharm": {
     "name": "#%%\n"
    }
   }
  },
  {
   "cell_type": "code",
   "execution_count": null,
   "outputs": [],
   "source": [],
   "metadata": {
    "collapsed": false,
    "pycharm": {
     "name": "#%%\n"
    }
   }
  }
 ],
 "metadata": {
  "kernelspec": {
   "display_name": "Python 3",
   "language": "python",
   "name": "python3"
  },
  "language_info": {
   "codemirror_mode": {
    "name": "ipython",
    "version": 2
   },
   "file_extension": ".py",
   "mimetype": "text/x-python",
   "name": "python",
   "nbconvert_exporter": "python",
   "pygments_lexer": "ipython2",
   "version": "2.7.6"
  }
 },
 "nbformat": 4,
 "nbformat_minor": 0
}