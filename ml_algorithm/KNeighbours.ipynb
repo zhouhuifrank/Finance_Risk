{
 "cells": [
  {
   "cell_type": "code",
   "execution_count": 23,
   "outputs": [],
   "source": [
    "import numpy as np\n",
    "import pandas as pd\n",
    "import matplotlib.pyplot as plt\n",
    "from sklearn.neighbors import KNeighborsClassifier\n",
    "from sklearn.neighbors import KNeighborsRegressor\n",
    "from sklearn.ensemble import RandomForestClassifier\n",
    "from sklearn.svm import SVC\n",
    "from sklearn.tree import DecisionTreeClassifier\n",
    "from sklearn.naive_bayes import MultinomialNB\n",
    "from sklearn.model_selection import train_test_split\n",
    "from sklearn.model_selection import cross_val_score\n",
    "from sklearn.metrics import r2_score,accuracy_score,roc_auc_score\n",
    "from sklearn.preprocessing import StandardScaler,MinMaxScaler\n",
    "from sklearn.datasets import load_digits"
   ],
   "metadata": {
    "collapsed": false,
    "pycharm": {
     "name": "#%%\n"
    }
   }
  },
  {
   "cell_type": "code",
   "execution_count": 9,
   "outputs": [
    {
     "name": "stdout",
     "output_type": "stream",
     "text": [
      "(1797, 64)\n",
      "[[ 0.  0.  0.  1. 11.  0.  0.  0.]\n",
      " [ 0.  0.  0.  7.  8.  0.  0.  0.]\n",
      " [ 0.  0.  1. 13.  6.  2.  2.  0.]\n",
      " [ 0.  0.  7. 15.  0.  9.  8.  0.]\n",
      " [ 0.  5. 16. 10.  0. 16.  6.  0.]\n",
      " [ 0.  4. 15. 16. 13. 16.  1.  0.]\n",
      " [ 0.  0.  0.  3. 15. 10.  0.  0.]\n",
      " [ 0.  0.  0.  2. 16.  4.  0.  0.]]\n",
      "4\n"
     ]
    },
    {
     "data": {
      "text/plain": "<Figure size 640x480 with 1 Axes>",
      "image/png": "[encoded data removed]"
     },
     "metadata": {},
     "output_type": "display_data"
    }
   ],
   "source": [
    "digits = load_digits()\n",
    "data = digits.data\n",
    "label = digits.target\n",
    "print(data.shape)\n",
    "print(digits.images[4])\n",
    "print(digits.target[4])\n",
    "# 显示图像\n",
    "plt.gray()\n",
    "plt.imshow(digits.images[4])\n",
    "plt.show()"
   ],
   "metadata": {
    "collapsed": false,
    "pycharm": {
     "name": "#%%\n"
    }
   }
  },
  {
   "cell_type": "code",
   "execution_count": 16,
   "outputs": [
    {
     "name": "stdout",
     "output_type": "stream",
     "text": [
      "KNN分类准确率为:0.98\n"
     ]
    }
   ],
   "source": [
    "train_x,test_x,train_y,test_y = train_test_split(data,label,test_size=0.25,random_state=1)\n",
    "# 归一化处理\n",
    "ss = StandardScaler()\n",
    "train_ss_x = ss.fit_transform(train_x)\n",
    "test_ss_x = ss.fit_transform(test_x)\n",
    "knn = KNeighborsClassifier()\n",
    "knn = knn.fit(train_ss_x,train_y)\n",
    "predict_val = knn.predict(test_ss_x)\n",
    "score = accuracy_score(test_y,predict_val)\n",
    "print(f\"KNN分类准确率为:{score}\")"
   ],
   "metadata": {
    "collapsed": false,
    "pycharm": {
     "name": "#%%\n"
    }
   }
  },
  {
   "cell_type": "code",
   "execution_count": 19,
   "outputs": [
    {
     "name": "stdout",
     "output_type": "stream",
     "text": [
      "SVM分类准确率为:0.9844444444444445\n"
     ]
    }
   ],
   "source": [
    "# SVM\n",
    "svm = SVC()\n",
    "svm.fit(train_ss_x,train_y)\n",
    "predict_val = svm.predict(test_ss_x)\n",
    "score = accuracy_score(test_y,predict_val)\n",
    "print(f\"SVM分类准确率为:{score}\")"
   ],
   "metadata": {
    "collapsed": false,
    "pycharm": {
     "name": "#%%\n"
    }
   }
  },
  {
   "cell_type": "code",
   "execution_count": 26,
   "outputs": [
    {
     "name": "stdout",
     "output_type": "stream",
     "text": [
      "CART树分类准确率:0.7555555555555555\n"
     ]
    }
   ],
   "source": [
    "# 决策树\n",
    "clf = DecisionTreeClassifier(criterion='gini')\n",
    "clf = clf.fit(train_ss_x,train_y)\n",
    "predict_val = clf.predict(test_ss_x)\n",
    "score = accuracy_score(test_y,predict_val)\n",
    "print(f\"CART树分类准确率:{score}\")"
   ],
   "metadata": {
    "collapsed": false,
    "pycharm": {
     "name": "#%%\n"
    }
   }
  },
  {
   "cell_type": "code",
   "execution_count": 25,
   "outputs": [
    {
     "name": "stdout",
     "output_type": "stream",
     "text": [
      "朴素贝叶斯分类准确率:0.9\n"
     ]
    }
   ],
   "source": [
    "# 朴素贝叶斯\n",
    "# 朴素贝叶斯不能处理负数，所以需要,min-max归一化\n",
    "mm = MinMaxScaler()\n",
    "train_mm_x = mm.fit_transform(train_x)\n",
    "test_mm_x = mm.fit_transform(test_x)\n",
    "bayes = MultinomialNB()\n",
    "bayes.fit(train_mm_x,train_y)\n",
    "predict_val = bayes.predict(test_mm_x)\n",
    "score = accuracy_score(test_y,predict_val)\n",
    "print(f\"朴素贝叶斯分类准确率:{score}\")"
   ],
   "metadata": {
    "collapsed": false,
    "pycharm": {
     "name": "#%%\n"
    }
   }
  },
  {
   "cell_type": "code",
   "execution_count": 27,
   "outputs": [
    {
     "name": "stdout",
     "output_type": "stream",
     "text": [
      "随机森林分类准确率:0.9777777777777777\n"
     ]
    }
   ],
   "source": [
    "# 随机森林\n",
    "rf = RandomForestClassifier(criterion='gini')\n",
    "rf.fit(train_ss_x,train_y)\n",
    "predict_val = rf.predict(test_ss_x)\n",
    "score = accuracy_score(test_y,predict_val)\n",
    "print(f\"随机森林分类准确率:{score}\")"
   ],
   "metadata": {
    "collapsed": false,
    "pycharm": {
     "name": "#%%\n"
    }
   }
  }
 ],
 "metadata": {
  "kernelspec": {
   "display_name": "Python 3",
   "language": "python",
   "name": "python3"
  },
  "language_info": {
   "codemirror_mode": {
    "name": "ipython",
    "version": 2
   },
   "file_extension": ".py",
   "mimetype": "text/x-python",
   "name": "python",
   "nbconvert_exporter": "python",
   "pygments_lexer": "ipython2",
   "version": "2.7.6"
  }
 },
 "nbformat": 4,
 "nbformat_minor": 0
}