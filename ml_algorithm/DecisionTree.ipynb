{
 "cells": [
  {
   "cell_type": "code",
   "execution_count": 1,
   "outputs": [],
   "source": [
    "import pandas as pd\n",
    "import numpy as np\n",
    "from sklearn.model_selection import train_test_split\n",
    "from sklearn.metrics import accuracy_score\n",
    "from sklearn.tree import DecisionTreeClassifier\n",
    "from sklearn.datasets import load_iris"
   ],
   "metadata": {
    "collapsed": false,
    "pycharm": {
     "name": "#%%\n"
    }
   }
  },
  {
   "cell_type": "code",
   "execution_count": 4,
   "outputs": [
    {
     "name": "stdout",
     "output_type": "stream",
     "text": [
      "CART树分类准确率:0.9777777777777777\n"
     ]
    }
   ],
   "source": [
    "# 使用CART树进行分类\n",
    "# 读取数据\n",
    "iris = load_iris()\n",
    "features = iris.data\n",
    "labels = iris.target\n",
    "# 划分数据集\n",
    "train_features,test_features,train_labels,test_labels = train_test_split(features,labels,test_size=0.3,random_state=0)\n",
    "# 创建CART决策树\n",
    "cart = DecisionTreeClassifier(criterion=\"gini\")\n",
    "cart = cart.fit(train_features,train_labels)\n",
    "test_predict = cart.predict(test_features)\n",
    "# 计算准确率\n",
    "acc = accuracy_score(test_labels,test_predict)\n",
    "print(f\"CART树分类准确率:{acc}\")"
   ],
   "metadata": {
    "collapsed": false,
    "pycharm": {
     "name": "#%%\n"
    }
   }
  },
  {
   "cell_type": "code",
   "execution_count": 2,
   "outputs": [],
   "source": [
    "from sklearn.model_selection import train_test_split\n",
    "from sklearn.datasets import fetch_california_housing\n",
    "from sklearn.metrics import r2_score,mean_absolute_error,mean_squared_error\n",
    "from sklearn.tree import DecisionTreeRegressor"
   ],
   "metadata": {
    "collapsed": false,
    "pycharm": {
     "name": "#%%\n"
    }
   }
  },
  {
   "cell_type": "code",
   "execution_count": 14,
   "outputs": [
    {
     "name": "stdout",
     "output_type": "stream",
     "text": [
      "['MedInc', 'HouseAge', 'AveRooms', 'AveBedrms', 'Population', 'AveOccup', 'Latitude', 'Longitude']\n",
      "回归树的均方差为:0.5419527317160046\n",
      "回归树的绝对偏差为:0.4679359738372093\n"
     ]
    }
   ],
   "source": [
    "# 使用CART树进行回归\n",
    "housing = fetch_california_housing()\n",
    "print(housing.feature_names)\n",
    "features = housing.data\n",
    "labels = housing.target\n",
    "# 划分数据集\n",
    "train_features,test_features,train_labels,test_labels = train_test_split(features,labels,test_size=0.3,random_state=0)\n",
    "# 创建CART树\n",
    "cart = DecisionTreeRegressor()\n",
    "cart = cart.fit(train_features,train_labels)\n",
    "test_predict = cart.predict(test_features)\n",
    "# 评估准则\n",
    "MSE = mean_squared_error(test_labels,test_predict)\n",
    "MAE = mean_absolute_error(test_labels,test_predict)\n",
    "print(f\"回归树的均方差为:{MSE}\")\n",
    "print(f\"回归树的绝对偏差为:{MAE}\")"
   ],
   "metadata": {
    "collapsed": false,
    "pycharm": {
     "name": "#%%\n"
    }
   }
  },
  {
   "cell_type": "markdown",
   "source": [
    "#### 经典数据集\n",
    "生存预测-分类问题"
   ],
   "metadata": {
    "collapsed": false,
    "pycharm": {
     "name": "#%% md\n"
    }
   }
  },
  {
   "cell_type": "code",
   "execution_count": 55,
   "outputs": [
    {
     "name": "stdout",
     "output_type": "stream",
     "text": [
      "训练数据集大小\n",
      "(891, 12)\n",
      "<class 'pandas.core.frame.DataFrame'>\n",
      "RangeIndex: 891 entries, 0 to 890\n",
      "Data columns (total 12 columns):\n",
      " #   Column       Non-Null Count  Dtype  \n",
      "---  ------       --------------  -----  \n",
      " 0   PassengerId  891 non-null    int64  \n",
      " 1   Survived     891 non-null    int64  \n",
      " 2   Pclass       891 non-null    int64  \n",
      " 3   Name         891 non-null    object \n",
      " 4   Sex          891 non-null    object \n",
      " 5   Age          714 non-null    float64\n",
      " 6   SibSp        891 non-null    int64  \n",
      " 7   Parch        891 non-null    int64  \n",
      " 8   Ticket       891 non-null    object \n",
      " 9   Fare         891 non-null    float64\n",
      " 10  Cabin        204 non-null    object \n",
      " 11  Embarked     889 non-null    object \n",
      "dtypes: float64(2), int64(5), object(5)\n",
      "memory usage: 83.7+ KB\n",
      "None\n",
      "--------------------------------------------------\n",
      "       PassengerId    Survived      Pclass         Age       SibSp  \\\n",
      "count   891.000000  891.000000  891.000000  714.000000  891.000000   \n",
      "mean    446.000000    0.383838    2.308642   29.699118    0.523008   \n",
      "std     257.353842    0.486592    0.836071   14.526497    1.102743   \n",
      "min       1.000000    0.000000    1.000000    0.420000    0.000000   \n",
      "25%     223.500000    0.000000    2.000000   20.125000    0.000000   \n",
      "50%     446.000000    0.000000    3.000000   28.000000    0.000000   \n",
      "75%     668.500000    1.000000    3.000000   38.000000    1.000000   \n",
      "max     891.000000    1.000000    3.000000   80.000000    8.000000   \n",
      "\n",
      "            Parch        Fare  \n",
      "count  891.000000  891.000000  \n",
      "mean     0.381594   32.204208  \n",
      "std      0.806057   49.693429  \n",
      "min      0.000000    0.000000  \n",
      "25%      0.000000    7.910400  \n",
      "50%      0.000000   14.454200  \n",
      "75%      0.000000   31.000000  \n",
      "max      6.000000  512.329200  \n",
      "--------------------------------------------------\n",
      "   PassengerId  Survived  Pclass  \\\n",
      "0            1         0       3   \n",
      "1            2         1       1   \n",
      "2            3         1       3   \n",
      "3            4         1       1   \n",
      "4            5         0       3   \n",
      "\n",
      "                                                Name     Sex   Age  SibSp  \\\n",
      "0                            Braund, Mr. Owen Harris    male  22.0      1   \n",
      "1  Cumings, Mrs. John Bradley (Florence Briggs Th...  female  38.0      1   \n",
      "2                             Heikkinen, Miss. Laina  female  26.0      0   \n",
      "3       Futrelle, Mrs. Jacques Heath (Lily May Peel)  female  35.0      1   \n",
      "4                           Allen, Mr. William Henry    male  35.0      0   \n",
      "\n",
      "   Parch            Ticket     Fare Cabin Embarked  \n",
      "0      0         A/5 21171   7.2500   NaN        S  \n",
      "1      0          PC 17599  71.2833   C85        C  \n",
      "2      0  STON/O2. 3101282   7.9250   NaN        S  \n",
      "3      0            113803  53.1000  C123        S  \n",
      "4      0            373450   8.0500   NaN        S  \n"
     ]
    }
   ],
   "source": [
    "train_data = pd.read_csv(\"./titanic/train.csv\")\n",
    "test_data = pd.read_csv(\"./titanic/test.csv\")\n",
    "print(\"训练数据集大小\")\n",
    "print(train_data.shape)\n",
    "print(train_data.info())\n",
    "print(\"-\"*50)\n",
    "print(train_data.describe())\n",
    "print(\"-\"*50)\n",
    "print(train_data.head())"
   ],
   "metadata": {
    "collapsed": false,
    "pycharm": {
     "name": "#%%\n"
    }
   }
  },
  {
   "cell_type": "code",
   "execution_count": 56,
   "outputs": [],
   "source": [
    "# 补全年龄\n",
    "train_data['Age'].fillna(train_data['Age'].mean(),inplace=True)\n",
    "test_data['Age'].fillna(test_data['Age'].mean(),inplace=True)\n",
    "# 补签票价\n",
    "train_data['Fare'].fillna(train_data['Fare'].mean(),inplace=True)\n",
    "test_data['Fare'].fillna(train_data['Fare'].mean(),inplace=True)"
   ],
   "metadata": {
    "collapsed": false,
    "pycharm": {
     "name": "#%%\n"
    }
   }
  },
  {
   "cell_type": "code",
   "execution_count": 57,
   "outputs": [
    {
     "name": "stdout",
     "output_type": "stream",
     "text": [
      "S    644\n",
      "C    168\n",
      "Q     77\n",
      "Name: Embarked, dtype: int64\n",
      "S    270\n",
      "C    102\n",
      "Q     46\n",
      "Name: Embarked, dtype: int64\n"
     ]
    }
   ],
   "source": [
    "print(train_data['Embarked'].value_counts())\n",
    "print(test_data['Embarked'].value_counts())"
   ],
   "metadata": {
    "collapsed": false,
    "pycharm": {
     "name": "#%%\n"
    }
   }
  },
  {
   "cell_type": "code",
   "execution_count": 58,
   "outputs": [],
   "source": [
    "train_data['Embarked'].fillna('S',inplace=True)\n",
    "test_data['Embarked'].fillna('S',inplace=True)"
   ],
   "metadata": {
    "collapsed": false,
    "pycharm": {
     "name": "#%%\n"
    }
   }
  },
  {
   "cell_type": "code",
   "execution_count": 59,
   "outputs": [],
   "source": [
    "# 选择有效特征，去掉冗余或者不相关的特征\n",
    "features = ['Pclass','Sex','Age','SibSp','Parch','Fare','Embarked']\n",
    "train_features = train_data[features]\n",
    "train_labels = train_data['Survived']\n",
    "test_features = test_data[features]"
   ],
   "metadata": {
    "collapsed": false,
    "pycharm": {
     "name": "#%%\n"
    }
   }
  },
  {
   "cell_type": "code",
   "execution_count": 60,
   "outputs": [
    {
     "name": "stdout",
     "output_type": "stream",
     "text": [
      "['Age', 'Embarked=C', 'Embarked=Q', 'Embarked=S', 'Fare', 'Parch', 'Pclass', 'Sex=female', 'Sex=male', 'SibSp']\n"
     ]
    },
    {
     "name": "stderr",
     "output_type": "stream",
     "text": [
      "C:\\Users\\22806\\AppData\\Local\\Temp\\ipykernel_54624\\466135852.py:4: FutureWarning: Using short name for 'orient' is deprecated. Only the options: ('dict', list, 'series', 'split', 'records', 'index') will be used in a future version. Use one of the above to silence this warning.\n",
      "  train_features = dvec.fit_transform(train_features.to_dict(orient='record'))\n"
     ]
    }
   ],
   "source": [
    "from sklearn.feature_extraction import DictVectorizer\n",
    "dvec = DictVectorizer(sparse=False)\n",
    "# 将分类转化为one-hot编码 训练集用fit_transform\n",
    "train_features = dvec.fit_transform(train_features.to_dict(orient='record'))\n",
    "print(dvec.feature_names_)"
   ],
   "metadata": {
    "collapsed": false,
    "pycharm": {
     "name": "#%%\n"
    }
   }
  },
  {
   "cell_type": "code",
   "execution_count": 52,
   "outputs": [
    {
     "name": "stderr",
     "output_type": "stream",
     "text": [
      "C:\\Users\\22806\\AppData\\Local\\Temp\\ipykernel_54624\\40861714.py:4: FutureWarning: Using short name for 'orient' is deprecated. Only the options: ('dict', list, 'series', 'split', 'records', 'index') will be used in a future version. Use one of the above to silence this warning.\n",
      "  test_features = dvec.transform(test_features.to_dict(orient='record'))\n"
     ]
    }
   ],
   "source": [
    "# ID3决策树训练\n",
    "clf = DecisionTreeClassifier(criterion='entropy')\n",
    "clf.fit(train_features,train_labels)\n",
    "# 测试集转换用transform\n",
    "test_features = dvec.transform(test_features.to_dict(orient='record'))\n",
    "test_predict = clf.predict(test_features)"
   ],
   "metadata": {
    "collapsed": false,
    "pycharm": {
     "name": "#%%\n"
    }
   }
  },
  {
   "cell_type": "code",
   "execution_count": 53,
   "outputs": [
    {
     "name": "stdout",
     "output_type": "stream",
     "text": [
      "ID3决策树的准确率为:0.98\n"
     ]
    }
   ],
   "source": [
    "acc_decision_tree = round(clf.score(train_features,train_labels),2)\n",
    "print(f\"ID3决策树的准确率为:{acc_decision_tree}\")"
   ],
   "metadata": {
    "collapsed": false,
    "pycharm": {
     "name": "#%%\n"
    }
   }
  },
  {
   "cell_type": "code",
   "execution_count": 54,
   "outputs": [
    {
     "name": "stdout",
     "output_type": "stream",
     "text": [
      "K折交叉验证的准确率:0.7734082397003745\n"
     ]
    }
   ],
   "source": [
    "# K折交叉验证\n",
    "from sklearn.model_selection import cross_val_score\n",
    "k_folds_acc = np.mean(cross_val_score(clf,train_features,train_labels,cv=10))\n",
    "print(f\"K折交叉验证的准确率:{k_folds_acc}\")"
   ],
   "metadata": {
    "collapsed": false,
    "pycharm": {
     "name": "#%%\n"
    }
   }
  },
  {
   "cell_type": "code",
   "execution_count": 61,
   "outputs": [
    {
     "name": "stderr",
     "output_type": "stream",
     "text": [
      "C:\\Users\\22806\\AppData\\Local\\Temp\\ipykernel_54624\\1959296491.py:4: FutureWarning: Using short name for 'orient' is deprecated. Only the options: ('dict', list, 'series', 'split', 'records', 'index') will be used in a future version. Use one of the above to silence this warning.\n",
      "  test_features = dvec.transform(test_features.to_dict(orient='record'))\n"
     ]
    }
   ],
   "source": [
    "# CART决策树训练\n",
    "cart = DecisionTreeClassifier(criterion='gini')\n",
    "cart = cart.fit(train_features,train_labels)\n",
    "test_features = dvec.transform(test_features.to_dict(orient='record'))\n",
    "predict_val = cart.predict(train_features)"
   ],
   "metadata": {
    "collapsed": false,
    "pycharm": {
     "name": "#%%\n"
    }
   }
  },
  {
   "cell_type": "code",
   "execution_count": 62,
   "outputs": [
    {
     "name": "stdout",
     "output_type": "stream",
     "text": [
      "CART树准确率:0.98\n",
      "K折交叉验证的准确率为:0.7901622971285892\n"
     ]
    }
   ],
   "source": [
    "acc_cart = round(cart.score(train_features,train_labels),2)\n",
    "print(f\"CART树准确率:{acc_cart}\")\n",
    "acc_k_folds = np.mean(cross_val_score(cart,train_features,train_labels,cv=10))\n",
    "print(f\"K折交叉验证的准确率为:{acc_k_folds}\")"
   ],
   "metadata": {
    "collapsed": false,
    "pycharm": {
     "name": "#%%\n"
    }
   }
  },
  {
   "cell_type": "code",
   "execution_count": 12,
   "outputs": [
    {
     "name": "stdout",
     "output_type": "stream",
     "text": [
      "shape: (1797, 64)\n",
      "[2 8 2 6 6 7 1 9 8 5 2 8 6 6 6 6 4 0 5 8 8 7 3 4 7 5 4 9 2 9 4 7 6 8 9 1 3\n",
      " 1 0 1 1 6 7 7 1 0 3 0 2 1 9 1 7 9 9 0 9 8 6 3 0 2 3 4 1 9 2 6 9 1 8 6 5 1\n",
      " 2 8 3 2 9 7 1 2 6 0 9 3 7 5 1 2 5 9 3 1 7 7 1 8 5 8 5 4 2 5 9 0 7 1 4 7 3\n",
      " 4 8 9 7 9 8 0 4 5 2 5 1 4 7 7 0 6 1 5 8 3 9 5 9 9 3 7 5 6 1 8 6 5 6 1 5 1\n",
      " 5 9 9 1 8 3 6 1 8 9 2 7 6 7 9 5 6 0 8 1 9 3 6 1 0 4 4 6 3 9 6 7 4 9 6 7 9\n",
      " 3 3 3 0 7 7 5 7 8 0 7 8 9 6 4 5 0 1 4 6 4 3 3 0 9 5 5 3 3 4 2 1 6 0 9 9 4\n",
      " 9 3 7 6 2 3 3 1 6 9 3 6 3 3 2 0 7 6 1 4 3 8 2 7 8 5 5 7 5 6 3 7 8 6 5 5 8\n",
      " 0 9 1 6 5 1 7 4 3 8 0 3 6 4 6 3 3 6 4 8 8 4 6 7 8 6 4 8 3 2 4 6 9 0 5 4 3\n",
      " 4 4 2 9 0 1 7 2 0 9 6 6 4 1 0 7 9 8 5 7 8 2 3 4 3 9 2 6 9 1 5 9 0 8 5 4 3\n",
      " 5 6 8 2 7 2 3 5 1 6 4 5 0 9 4 1 1 7 0 1 9 0 5 4 7 8 8 6 5 3 4 4 4 9 8 7 0\n",
      " 9 6 3 5 2 3 0 8 2 3 1 3 4 0 0 4 6 0 7 7 6 2 0 4 4 2 3 7 8 9 8 6 8 5 6 2 2\n",
      " 3 1 7 3 8 0 3 3 2 6 5 5 9 1 3 7 0 0 9 0 8 5 8 3 3 4 7 1 8 9 8 3 6 6 1 6 2\n",
      " 1 7 5 5 1 9 2 9 9 7 2 1 4 9 3 2 6 2 5 9 4 5 8 3 0 6 3 0 4 8 4 1 8 6 4 3 4\n",
      " 8 0 4 5 8 3 5 1 8 3 4 5 0 8 5 6 3 0 6 9 1 5 2 2 3 9 8 4 3 8 0 7 8 7 1 1 3\n",
      " 5 5 3 4 9 7 8 4 4 9 0 1 6 9 3 6 1 7 0 6 2 9]\n",
      "分类准确率：0.8296296296296296\n"
     ]
    }
   ],
   "source": [
    "# 手写数据集分类 CART树\n",
    "from sklearn.datasets import load_digits\n",
    "digits = load_digits()\n",
    "features = digits.data\n",
    "labels = digits.target\n",
    "# print(digits.feature_names)\n",
    "print(\"shape:\",features.shape)\n",
    "train_features,test_features,train_labels,test_labels = train_test_split(features,labels,test_size=0.3,random_state=0)\n",
    "clf = DecisionTreeClassifier(criterion='gini')\n",
    "clf = clf.fit(train_features,train_labels)\n",
    "predict_val = clf.predict(test_features)\n",
    "print(predict_val)\n",
    "acc = accuracy_score(test_labels,predict_val)\n",
    "print(f\"分类准确率：{acc}\")"
   ],
   "metadata": {
    "collapsed": false,
    "pycharm": {
     "name": "#%%\n"
    }
   }
  }
 ],
 "metadata": {
  "kernelspec": {
   "display_name": "Python 3",
   "language": "python",
   "name": "python3"
  },
  "language_info": {
   "codemirror_mode": {
    "name": "ipython",
    "version": 2
   },
   "file_extension": ".py",
   "mimetype": "text/x-python",
   "name": "python",
   "nbconvert_exporter": "python",
   "pygments_lexer": "ipython2",
   "version": "2.7.6"
  }
 },
 "nbformat": 4,
 "nbformat_minor": 0
}